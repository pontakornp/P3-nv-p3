{
 "cells": [
  {
   "cell_type": "code",
   "execution_count": 1,
   "metadata": {},
   "outputs": [
    {
     "name": "stdout",
     "output_type": "stream",
     "text": [
      "2560224270\n"
     ]
    }
   ],
   "source": [
    "df = spark.read.format('json').load(\"hdfs://orion11:33001/reddit/*/*\")\n",
    "print(df.count())"
   ]
  },
  {
   "cell_type": "code",
   "execution_count": 2,
   "metadata": {},
   "outputs": [
    {
     "name": "stdout",
     "output_type": "stream",
     "text": [
      "+-----------+--------+-------------+--------------+----------------------+-----------------+---------+--------------------+---------+----------------+-------+-----------+-------------+-----+------+------+-------+-----+--------+-----------+----------+-----------+----------+--------------+-------+--------------+------------+-----+-----+------------+--------+-----------+------------+---+------------+\n",
      "|approved_by|archived|       author|author_cakeday|author_flair_css_class|author_flair_text|banned_by|                body|body_html|controversiality|created|created_utc|distinguished|downs|edited|gilded|     id|likes| link_id|mod_reports|      name|num_reports| parent_id|removal_reason|replies|report_reasons|retrieved_on|saved|score|score_hidden|stickied|  subreddit|subreddit_id|ups|user_reports|\n",
      "+-----------+--------+-------------+--------------+----------------------+-----------------+---------+--------------------+---------+----------------+-------+-----------+-------------+-----+------+------+-------+-----+--------+-----------+----------+-----------+----------+--------------+-------+--------------+------------+-----+-----+------------+--------+-----------+------------+---+------------+\n",
      "|       null|    true|   adrianmonk|          null|                  null|             null|     null|There's no way th...|     null|               0|   null| 1246406405|         null|    0| false|     0|c0apkxk| null|t3_8x3tt|       null|t1_c0apkxk|       null|  t3_8x3tt|          null|   null|          null|  1425992224| null|   25|       false|    null|      funny|    t5_2qh33| 25|        null|\n",
      "|       null|    true|  Nesemulator|          null|                  null|             null|     null|Lord of the Rings...|     null|               0|   null| 1246406405|         null|    0| false|     0|c0apkxl| null|t3_8x3hn|       null|t1_c0apkxl|       null|  t3_8x3hn|          null|   null|          null|  1425992224| null|    2|       false|    null|     gaming|    t5_2qh03|  2|        null|\n",
      "|       null|    true|     adolfojp|          null|                  null|             null|     null|The fuck it song ...|     null|               0|   null| 1246406409|         null|    0|  true|     0|c0apkxm| null|t3_8x0tm|       null|t1_c0apkxm|       null|  t3_8x0tm|          null|   null|          null|  1425992224| null|    1|       false|    null|      funny|    t5_2qh33|  1|        null|\n",
      "|       null|    true|     thezoner|          null|                  null|             null|     null|Ha! Same as hocke...|     null|               0|   null| 1246406413|         null|    0| false|     0|c0apkxn| null|t3_8wzqx|       null|t1_c0apkxn|       null|t1_c0ap3lw|          null|   null|          null|  1425992224| null|    1|       false|    null|     videos|    t5_2qh1e|  1|        null|\n",
      "|       null|    true|   ggrayskies|          null|                  null|             null|     null|*You* are clever ...|     null|               0|   null| 1246406413|         null|    0| false|     0|c0apkxo| null|t3_8x2w0|       null|t1_c0apkxo|       null|t1_c0apjcu|          null|   null|          null|  1425992224| null|    2|       false|    null|       pics|    t5_2qh0u|  2|        null|\n",
      "|       null|    true|      nikniuq|          null|                  null|             null|     null|Does it *have* to...|     null|               0|   null| 1246406413|         null|    0| false|     0|c0apkxp| null|t3_8x03w|       null|t1_c0apkxp|       null|t1_c0apcl0|          null|   null|          null|  1425992224| null|    1|       false|    null| reddit.com|        t5_6|  1|        null|\n",
      "|       null|    true|    [deleted]|          null|                  null|             null|     null|I've been lurking...|     null|               0|   null| 1246406414|         null|    0| false|     0|c0apkxq| null|t3_8wum6|       null|t1_c0apkxq|       null|t1_c0aorhw|          null|   null|          null|  1425992224| null|    3|       false|    null| technology|    t5_2qh16|  3|        null|\n",
      "|       null|    true|     Redmoons|          null|                  null|             null|     null|This one time, my...|     null|               0|   null| 1246406418|         null|    0| false|     0|c0apkxr| null|t3_8x3z5|       null|t1_c0apkxr|       null|  t3_8x3z5|          null|   null|          null|  1425992224| null|   -1|       false|    null|  AskReddit|    t5_2qh1i| -1|        null|\n",
      "|       null|    true|    [deleted]|          null|                  null|             null|     null|The Chrono Cross ...|     null|               0|   null| 1246406426|         null|    0| false|     0|c0apkxs| null|t3_8x3hn|       null|t1_c0apkxs|       null|t1_c0apirk|          null|   null|          null|  1425992224| null|    1|       false|    null|     gaming|    t5_2qh03|  1|        null|\n",
      "|       null|    true|        larva|          null|                  null|             null|     null|Well, it's pretty...|     null|               0|   null| 1246406430|         null|    0| false|     0|c0apkxt| null|t3_8x1s3|       null|t1_c0apkxt|       null|t1_c0ap95x|          null|   null|          null|  1425992224| null|    9|       false|    null| reddit.com|        t5_6|  9|        null|\n",
      "|       null|    true|   johnhummel|          null|                  null|             null|     null|  Keep going strong?|     null|               0|   null| 1246406430|         null|    0| false|     0|c0apkxu| null|t3_8x0u1|       null|t1_c0apkxu|       null|t1_c0apfmh|          null|   null|          null|  1425992224| null|    2|       false|    null|    science|     t5_mouw|  2|        null|\n",
      "|       null|    true|    pablogott|          null|                  null|             null|     null|to me there are 2...|     null|               0|   null| 1246406430|         null|    0| false|     0|c0apkxv| null|t3_8x490|       null|t1_c0apkxv|       null|  t3_8x490|          null|   null|          null|  1425992224| null|    4|       false|    null|    writing|    t5_2qh2n|  4|        null|\n",
      "|       null|    true|futurcorerock|          null|                  null|             null|     null|   what... the fuck?|     null|               0|   null| 1246406430|         null|    0| false|     0|c0apkxw| null|t3_8x4qw|       null|t1_c0apkxw|       null|  t3_8x4qw|          null|   null|          null|  1425992224| null|    1|       false|    null| reddit.com|        t5_6|  1|        null|\n",
      "|       null|    true|    [deleted]|          null|                  null|             null|     null|And then let them...|     null|               0|   null| 1246406430|         null|    0| false|     0|c0apkxx| null|t3_8x3bh|       null|t1_c0apkxx|       null|  t3_8x3bh|          null|   null|          null|  1425992224| null|   -2|       false|    null|  worldnews|    t5_2qh13| -2|        null|\n",
      "|       null|    true|         vmas|          null|                  null|             null|     null|Why does it have ...|     null|               0|   null| 1246406431|         null|    0| false|     0|c0apkxy| null|t3_8x2w0|       null|t1_c0apkxy|       null|  t3_8x2w0|          null|   null|          null|  1425992224| null|    1|       false|    null|       pics|    t5_2qh0u|  1|        null|\n",
      "|       null|    true|    [deleted]|          null|                  null|             null|     null|The floating ads ...|     null|               0|   null| 1246406433|         null|    0| false|     0|c0apkxz| null|t3_8x3j7|       null|t1_c0apkxz|       null|  t3_8x3j7|          null|   null|          null|  1425992224| null|    2|       false|    null| reddit.com|        t5_6|  2|        null|\n",
      "|       null|    true|    [deleted]|          null|                  null|             null|     null|           [deleted]|     null|               0|   null| 1246406434|         null|    0| false|     0|c0apky0| null|t3_8x4r3|       null|t1_c0apky0|       null|  t3_8x4r3|          null|   null|          null|  1425992224| null|   20|       false|    null|       pics|    t5_2qh0u| 20|        null|\n",
      "|       null|    true|  RobotBuddha|          null|                  null|             null|     null|But BIG PHARMA ZO...|     null|               0|   null| 1246406434|         null|    0| false|     0|c0apky1| null|t3_8x1xt|       null|t1_c0apky1|       null|t1_c0apjy2|          null|   null|          null|  1425992224| null|   13|       false|    null|     Health|    t5_2qh9z| 13|        null|\n",
      "|       null|    true|         zxn0|          null|                  null|             null|     null|Is it something 6...|     null|               0|   null| 1246406436|         null|    0|  true|     0|c0apky2| null|t3_8wya7|       null|t1_c0apky2|       null|t1_c0apkuz|          null|   null|          null|  1425992224| null|   61|       false|    null| reddit.com|        t5_6| 61|        null|\n",
      "|       null|    true|    [deleted]|          null|                  null|             null|     null|Ah... you're righ...|     null|               0|   null| 1246406437|         null|    0|  true|     0|c0apky3| null|t3_8x3x8|       null|t1_c0apky3|       null|t1_c0apkrb|          null|   null|          null|  1425992224| null|    9|       false|    null|programming|     t5_2fwo|  9|        null|\n",
      "+-----------+--------+-------------+--------------+----------------------+-----------------+---------+--------------------+---------+----------------+-------+-----------+-------------+-----+------+------+-------+-----+--------+-----------+----------+-----------+----------+--------------+-------+--------------+------------+-----+-----+------------+--------+-----------+------------+---+------------+\n",
      "only showing top 20 rows\n",
      "\n"
     ]
    }
   ],
   "source": [
    "df.show()"
   ]
  },
  {
   "cell_type": "code",
   "execution_count": 3,
   "metadata": {
    "scrolled": true
   },
   "outputs": [
    {
     "name": "stdout",
     "output_type": "stream",
     "text": [
      "+--------------+\n",
      "|     subreddit|\n",
      "+--------------+\n",
      "|         anime|\n",
      "|    MensRights|\n",
      "|        travel|\n",
      "|       Amateur|\n",
      "|        lojban|\n",
      "|  couchsurfing|\n",
      "|       visalia|\n",
      "|      Warcraft|\n",
      "|       jewelry|\n",
      "|   c0daisajerk|\n",
      "|     left4dead|\n",
      "|   ItsNotOnion|\n",
      "|      hotornot|\n",
      "|  SaltLakeCity|\n",
      "|    IvoryTower|\n",
      "|      lacrosse|\n",
      "|    ArtHistory|\n",
      "|WatchThisMovie|\n",
      "|   777gambling|\n",
      "|       Pickles|\n",
      "+--------------+\n",
      "only showing top 20 rows\n",
      "\n"
     ]
    }
   ],
   "source": [
    "df.select(\"subreddit\").distinct().show()"
   ]
  },
  {
   "cell_type": "code",
   "execution_count": 4,
   "metadata": {},
   "outputs": [],
   "source": [
    "unique_subreddit = df.select(\"subreddit\").distinct().count()"
   ]
  },
  {
   "cell_type": "code",
   "execution_count": 5,
   "metadata": {},
   "outputs": [
    {
     "name": "stdout",
     "output_type": "stream",
     "text": [
      "Unique Subreddits:  416155\n"
     ]
    }
   ],
   "source": [
    "print('Unique Subreddits: ', unique_subreddit)"
   ]
  },
  {
   "cell_type": "code",
   "execution_count": null,
   "metadata": {},
   "outputs": [],
   "source": []
  }
 ],
 "metadata": {
  "kernelspec": {
   "display_name": "Python 3",
   "language": "python",
   "name": "python3"
  },
  "language_info": {
   "codemirror_mode": {
    "name": "ipython",
    "version": 3
   },
   "file_extension": ".py",
   "mimetype": "text/x-python",
   "name": "python",
   "nbconvert_exporter": "python",
   "pygments_lexer": "ipython3",
   "version": "3.7.3"
  }
 },
 "nbformat": 4,
 "nbformat_minor": 2
}
