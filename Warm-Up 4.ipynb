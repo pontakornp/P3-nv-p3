{
 "cells": [
  {
   "cell_type": "code",
   "execution_count": 17,
   "metadata": {},
   "outputs": [
    {
     "name": "stdout",
     "output_type": "stream",
     "text": [
      "3401228243\n"
     ]
    }
   ],
   "source": [
    "df = spark.read.format('json').load(\"hdfs://orion11:33001/reddit/*/*\")\n",
    "print(df.count())"
   ]
  },
  {
   "cell_type": "code",
   "execution_count": 18,
   "metadata": {},
   "outputs": [],
   "source": [
    "from pyspark.sql.functions import year, month, dayofmonth, from_unixtime\n",
    "from pyspark.sql.types import TimestampType, DateType\n",
    "\n",
    "botExpr = \"[bB][oO][tT]\"\n",
    "\n",
    "df2 = (df\n",
    "        .filter(~(df.body.like(\"[deleted]\") | df.author.rlike(botExpr)))\n",
    "        .withColumn(\"year\", year(from_unixtime(\"created_utc\").cast(DateType()))))\n",
    "\n",
    "df3 = df2.groupBy('year', 'subreddit').count()"
   ]
  },
  {
   "cell_type": "code",
   "execution_count": 19,
   "metadata": {},
   "outputs": [
    {
     "name": "stdout",
     "output_type": "stream",
     "text": [
      "+----+---------+------+\n",
      "|year|subreddit| count|\n",
      "+----+---------+------+\n",
      "|2017| OnePiece|152796|\n",
      "|2010| OnePiece|   836|\n",
      "|2014| OnePiece|306882|\n",
      "|2016| OnePiece|568556|\n",
      "|2013| OnePiece|209358|\n",
      "|2011| OnePiece| 19814|\n",
      "|2012| OnePiece|110622|\n",
      "|2015| OnePiece|537427|\n",
      "+----+---------+------+\n",
      "\n"
     ]
    }
   ],
   "source": [
    "df3.filter(df3.subreddit == 'OnePiece').show()"
   ]
  },
  {
   "cell_type": "code",
   "execution_count": null,
   "metadata": {},
   "outputs": [],
   "source": [
    "from pyspark.sql.functions import desc\n",
    "df3.filter(df3.year == '2017').orderBy(desc(\"count\")).show()"
   ]
  },
  {
   "cell_type": "code",
   "execution_count": 1,
   "metadata": {},
   "outputs": [
    {
     "ename": "NameError",
     "evalue": "name 'df3' is not defined",
     "output_type": "error",
     "traceback": [
      "\u001b[0;31m---------------------------------------------------------------------------\u001b[0m",
      "\u001b[0;31mNameError\u001b[0m                                 Traceback (most recent call last)",
      "\u001b[0;32m<ipython-input-1-58dd7b50f944>\u001b[0m in \u001b[0;36m<module>\u001b[0;34m\u001b[0m\n\u001b[1;32m      1\u001b[0m \u001b[0;32mfrom\u001b[0m \u001b[0mpyspark\u001b[0m\u001b[0;34m.\u001b[0m\u001b[0msql\u001b[0m\u001b[0;34m.\u001b[0m\u001b[0mfunctions\u001b[0m \u001b[0;32mimport\u001b[0m \u001b[0mdesc\u001b[0m\u001b[0;34m\u001b[0m\u001b[0;34m\u001b[0m\u001b[0m\n\u001b[0;32m----> 2\u001b[0;31m \u001b[0mdf3\u001b[0m\u001b[0;34m.\u001b[0m\u001b[0mfilter\u001b[0m\u001b[0;34m(\u001b[0m\u001b[0mdf3\u001b[0m\u001b[0;34m.\u001b[0m\u001b[0msubreddit\u001b[0m \u001b[0;34m==\u001b[0m \u001b[0;34m'nba'\u001b[0m\u001b[0;34m)\u001b[0m\u001b[0;34m.\u001b[0m\u001b[0mshow\u001b[0m\u001b[0;34m(\u001b[0m\u001b[0;34m)\u001b[0m\u001b[0;34m\u001b[0m\u001b[0;34m\u001b[0m\u001b[0m\n\u001b[0m",
      "\u001b[0;31mNameError\u001b[0m: name 'df3' is not defined"
     ]
    }
   ],
   "source": [
    "from pyspark.sql.functions import desc\n",
    "df3.filter(df3.subreddit == 'nba').show()"
   ]
  },
  {
   "cell_type": "code",
   "execution_count": null,
   "metadata": {},
   "outputs": [],
   "source": []
  },
  {
   "cell_type": "code",
   "execution_count": null,
   "metadata": {},
   "outputs": [],
   "source": []
  }
 ],
 "metadata": {
  "kernelspec": {
   "display_name": "Python 3",
   "language": "python",
   "name": "python3"
  }
 },
 "nbformat": 4,
 "nbformat_minor": 2
}
