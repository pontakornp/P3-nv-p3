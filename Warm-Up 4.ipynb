{
 "cells": [
  {
   "cell_type": "code",
   "execution_count": 1,
   "metadata": {},
   "outputs": [
    {
     "name": "stdout",
     "output_type": "stream",
     "text": [
      "3401228243\n"
     ]
    }
   ],
   "source": [
    "df = spark.read.format('json').load(\"hdfs://orion11:33001/reddit/*/*\")\n",
    "print(df.count())"
   ]
  },
  {
   "cell_type": "code",
   "execution_count": 2,
   "metadata": {},
   "outputs": [],
   "source": [
    "from pyspark.sql.functions import year, month, dayofmonth, from_unixtime, desc\n",
    "from pyspark.sql.types import TimestampType, DateType\n",
    "\n",
    "botExpr = \"[bB][oO][tT]\"\n",
    "\n",
    "df2 = (df\n",
    "        .filter(~(df.body.like(\"[deleted]\") | df.author.rlike(botExpr)))\n",
    "        .withColumn(\"year\", year(from_unixtime(\"created_utc\").cast(DateType()))))\n",
    "\n",
    "df3 = df2.groupBy('year', 'subreddit').count()"
   ]
  },
  {
   "cell_type": "code",
   "execution_count": 6,
   "metadata": {},
   "outputs": [
    {
     "name": "stdout",
     "output_type": "stream",
     "text": [
      "+----+---------+------+\n",
      "|year|subreddit| count|\n",
      "+----+---------+------+\n",
      "|2017| OnePiece|152796|\n",
      "|2016| OnePiece|568556|\n",
      "|2015| OnePiece|537427|\n",
      "|2014| OnePiece|306882|\n",
      "|2013| OnePiece|209358|\n",
      "|2012| OnePiece|110622|\n",
      "|2011| OnePiece| 19814|\n",
      "|2010| OnePiece|   836|\n",
      "+----+---------+------+\n",
      "\n"
     ]
    }
   ],
   "source": [
    "df3.filter(df3.subreddit == 'OnePiece').orderBy(desc(\"year\")).show()"
   ]
  },
  {
   "cell_type": "code",
   "execution_count": 3,
   "metadata": {},
   "outputs": [
    {
     "name": "stdout",
     "output_type": "stream",
     "text": [
      "+----+---------+--------+\n",
      "|year|subreddit|   count|\n",
      "+----+---------+--------+\n",
      "|2017|    funny| 1832661|\n",
      "|2016|    funny| 7295403|\n",
      "|2015|    funny| 9220163|\n",
      "|2014|    funny|11654125|\n",
      "|2013|    funny|14060146|\n",
      "|2012|    funny|13151768|\n",
      "|2011|    funny| 4756088|\n",
      "|2010|    funny| 1432280|\n",
      "|2009|    funny|  590963|\n",
      "|2008|    funny|  243755|\n",
      "+----+---------+--------+\n",
      "\n"
     ]
    }
   ],
   "source": [
    "df3.filter(df3.subreddit == 'funny').orderBy(desc(\"year\")).show()"
   ]
  },
  {
   "cell_type": "code",
   "execution_count": 9,
   "metadata": {},
   "outputs": [
    {
     "name": "stdout",
     "output_type": "stream",
     "text": [
      "+----+---------+--------+\n",
      "|year|subreddit|   count|\n",
      "+----+---------+--------+\n",
      "|2017|AskReddit|15438612|\n",
      "|2016|AskReddit|58125591|\n",
      "|2015|AskReddit|51773393|\n",
      "|2014|AskReddit|49897465|\n",
      "|2013|AskReddit|48180086|\n",
      "|2012|AskReddit|35771389|\n",
      "|2011|AskReddit|18056650|\n",
      "|2010|AskReddit| 8903180|\n",
      "|2009|AskReddit| 3057168|\n",
      "|2008|AskReddit|  209643|\n",
      "+----+---------+--------+\n",
      "\n"
     ]
    }
   ],
   "source": [
    "df3.filter(df3.subreddit == 'AskReddit').orderBy(desc(\"year\")).show()"
   ]
  },
  {
   "cell_type": "code",
   "execution_count": null,
   "metadata": {},
   "outputs": [],
   "source": []
  }
 ],
 "metadata": {
  "kernelspec": {
   "display_name": "Python 3",
   "language": "python",
   "name": "python3"
  },
  "language_info": {
   "codemirror_mode": {
    "name": "ipython",
    "version": 3
   },
   "file_extension": ".py",
   "mimetype": "text/x-python",
   "name": "python",
   "nbconvert_exporter": "python",
   "pygments_lexer": "ipython3",
   "version": "3.7.3"
  }
 },
 "nbformat": 4,
 "nbformat_minor": 2
}
