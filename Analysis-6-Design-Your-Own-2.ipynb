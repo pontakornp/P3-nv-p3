{
 "cells": [
  {
   "cell_type": "code",
   "execution_count": 33,
   "metadata": {},
   "outputs": [
    {
     "name": "stdout",
     "output_type": "stream",
     "text": [
      "309199315\n"
     ]
    }
   ],
   "source": [
    "# df = spark.read.format('json').load(\"hdfs://orion11:33001/reddit/sampled_reddit/part-00000-e97c075c-b0b4-49da-b85b-f77c115b75b6-c000.json\")\n",
    "df = spark.read.format('json').load(\"hdfs://orion11:33001/reddit/sampled_reddit/*\")\n",
    "print(df.count())"
   ]
  },
  {
   "cell_type": "code",
   "execution_count": 34,
   "metadata": {},
   "outputs": [],
   "source": [
    "from pyspark.sql.functions import year, month, dayofmonth, from_unixtime, desc\n",
    "from pyspark.sql.types import TimestampType, DateType\n",
    "\n",
    "botExpr = \"[bB][oO][tT]\"\n",
    "\n",
    "df2 = (df\n",
    "        .filter(~(df.body.like(\"[deleted]\") | df.author.rlike(botExpr))))"
   ]
  },
  {
   "cell_type": "code",
   "execution_count": 35,
   "metadata": {
    "scrolled": true
   },
   "outputs": [
    {
     "name": "stdout",
     "output_type": "stream",
     "text": [
      "+--------+----------------+--------------+----------------------+-----------------+--------------------+---------+----------------+-------+-----------+-------------+-----+------+------+-------+--------+-----------+----------+----------+--------------+-------+------------+-----+-----+------------+--------+-----------------+------------+---+------------+\n",
      "|archived|          author|author_cakeday|author_flair_css_class|author_flair_text|                body|body_html|controversiality|created|created_utc|distinguished|downs|edited|gilded|     id| link_id|mod_reports|      name| parent_id|removal_reason|replies|retrieved_on|saved|score|score_hidden|stickied|        subreddit|subreddit_id|ups|user_reports|\n",
      "+--------+----------------+--------------+----------------------+-----------------+--------------------+---------+----------------+-------+-----------+-------------+-----+------+------+-------+--------+-----------+----------+----------+--------------+-------+------------+-----+-----+------------+--------+-----------------+------------+---+------------+\n",
      "|    true|      halftone84|          null|                  null|             null|I read the title ...|     null|               0|   null| 1309478410|         null|    0| false|     0|c22x4bc|t3_idgji|       null|t1_c22x4bc|  t3_idgji|          null|   null|  1427302517| null|    1|       false|    null|        AskReddit|    t5_2qh1i|  1|        null|\n",
      "|    true|       keiyakins|          null|                  null|             null|Because you're ab...|     null|               0|   null| 1309478412|         null|    0| false|     0|c22x4bi|t3_idez1|       null|t1_c22x4bi|  t3_idez1|          null|   null|  1427302517| null|    1|       false|    null|        AskReddit|    t5_2qh1i|  1|        null|\n",
      "|    true|  chuck_finley17|          null|                  null|             null|All he had was a ...|     null|               0|   null| 1309478416|         null|    0| false|     0|c22x4bw|t3_idilf|       null|t1_c22x4bw|t1_c22worq|          null|   null|  1427302517| null|    3|       false|    null|         politics|    t5_2cneq|  3|        null|\n",
      "|    true|          iceage|          null|                  null|             null|Flushing with you...|     null|               0|   null| 1309478419|         null|    0| false|     0|c22x4c5|t3_idez1|       null|t1_c22x4c5|t1_c22x3iv|          null|   null|  1427302517| null|    1|       false|    null|        AskReddit|    t5_2qh1i|  1|        null|\n",
      "|    true| phenomenonymous|          null|                  null|             null|I grew up in Texa...|     null|               0|   null| 1309478425|         null|    0| false|     0|c22x4ck|t3_id89f|       null|t1_c22x4ck|t1_c22v4lg|          null|   null|  1427302517| null|    1|       false|    null|             IAmA|    t5_2qzb6|  1|        null|\n",
      "|    true|tumbleweed1993sf|          null|                  null|             null|I did this alread...|     null|               0|   null| 1309478428|         null|    0| false|     0|c22x4cu|t3_icown|       null|t1_c22x4cu|t1_c22uaz9|          null|   null|  1427302517| null|    1|       false|    null|       California|    t5_2qhsz|  1|        null|\n",
      "|    true|         zero_iq|          null|                  null|             null|Ctrl-F: *drr* *dr...|     null|               0|   null| 1309478432|         null|    0| false|     0|c22x4di|t3_idf3i|       null|t1_c22x4di|  t3_idf3i|          null|   null|  1427302517| null|    2|       false|    null|             pics|    t5_2qh0u|  2|        null|\n",
      "|    true| gabrielbenjamin|          null|                  null|             null|Damn. I was wrong...|     null|               0|   null| 1309478438|         null|    0| false|     0|c22x4dj|t3_ialh5|       null|t1_c22x4dj|t1_c229e00|          null|   null|  1427302517| null|    1|       false|    null|       reddit.com|        t5_6|  1|        null|\n",
      "|    true|         Ishkabo|          null|                  null|             null|          Me too. :/|     null|               0|   null| 1309478434|         null|    0| false|     0|c22x4dp|t3_idgof|       null|t1_c22x4dp|t1_c22x0d8|          null|   null|  1427302517| null|    5|       false|    null|        AskReddit|    t5_2qh1i|  5|        null|\n",
      "|    true|        ihrtgngr|          null|                  null|             null|I don't know, but...|     null|               0|   null| 1309478441|         null|    0| false|     0|c22x4e4|t3_idiyp|       null|t1_c22x4e4|  t3_idiyp|          null|   null|  1427302518| null|    2|       false|    null|        AskReddit|    t5_2qh1i|  2|        null|\n",
      "|    true|       Gareth321|          null|                  null|             null|How did you do that?|     null|               0|   null| 1309478448|         null|    0| false|     0|c22x4ex|t3_idena|       null|t1_c22x4ex|t1_c22utuz|          null|   null|  1427302518| null|    1|       false|    null|           trance|    t5_2qi03|  1|        null|\n",
      "|    true|         BigDisk|          null|                  null|             null|I can haz google+...|     null|               0|   null| 1309478448|         null|    0| false|     0|c22x4ey|t3_id7pg|       null|t1_c22x4ey|  t3_id7pg|          null|   null|  1427302518| null|    0|       false|    null|           google|    t5_2qh45|  0|        null|\n",
      "|    true|      robdidlyob|          null|                  null|             null|Months?  That's a...|     null|               0|   null| 1309478455|         null|    0| false|     0|c22x4fn|t3_idivv|       null|t1_c22x4fn|t1_c22x0rc|          null|   null|  1427302518| null|    2|       false|    null|             IAmA|    t5_2qzb6|  2|        null|\n",
      "|    true|       danxmason|          null|                  null|             null|Is that the Reddi...|     null|               0|   null| 1309478457|         null|    0| false|     0|c22x4fq|t3_idllb|       null|t1_c22x4fq|  t3_idllb|          null|   null|  1427302518| null|    1|       false|    null|         sandiego|    t5_2qq2q|  1|        null|\n",
      "|    true|          LeBrad|          null|                  null|             null|I got my invite, ...|     null|               0|   null| 1309478464|         null|    0| false|     0|c22x4gc|t3_idih6|       null|t1_c22x4gc|t1_c22vdnk|          null|   null|  1427302518| null|    1|       false|    null|       googleplus|    t5_2slj1|  1|        null|\n",
      "|    true|        DoubleKK|          null|                  null|             null|This sounds bette...|     null|               0|   null| 1309478468|         null|    0| false|     0|c22x4gd|t3_idlha|       null|t1_c22x4gd|  t3_idlha|          null|   null|  1427302518| null|    1|       false|    null|       technology|    t5_2qh16|  1|        null|\n",
      "|    true|       [deleted]|          null|                  null|             null|Israel handled it...|     null|               0|   null| 1309478465|         null|    0| false|     0|c22x4ge|t3_idczn|       null|t1_c22x4ge|  t3_idczn|          null|   null|  1427302518| null|    2|       false|    null|        worldnews|    t5_2qh13|  2|        null|\n",
      "|    true|        Ebeforei|          null|                  null|             null|Yeah, I'm ruler g...|     null|               0|   null| 1309478461|         null|    0| false|     0|c22x4gf|t3_i7nfh|       null|t1_c22x4gf|t1_c22w8t5|          null|   null|  1427302518| null|    3|       false|    null|DrawingFromWithin|    t5_2skem|  3|        null|\n",
      "|    true|   ultimatechase|          null|                  null|             null|I just found out ...|     null|               0|   null| 1309478467|         null|    0| false|     0|c22x4gg|t3_ide7o|       null|t1_c22x4gg|  t3_ide7o|          null|   null|  1427302518| null|    1|       false|    null|           gaming|    t5_2qh03|  1|        null|\n",
      "|    true|           pilaf|          null|                  null|             null|Hope you can't wa...|     null|               0|   null| 1309478469|         null|    0| false|     0|c22x4go|t3_idm1x|       null|t1_c22x4go|  t3_idm1x|          null|   null|  1427302518| null|    2|       false|    null|       reddit.com|        t5_6|  2|        null|\n",
      "+--------+----------------+--------------+----------------------+-----------------+--------------------+---------+----------------+-------+-----------+-------------+-----+------+------+-------+--------+-----------+----------+----------+--------------+-------+------------+-----+-----+------------+--------+-----------------+------------+---+------------+\n",
      "only showing top 20 rows\n",
      "\n"
     ]
    }
   ],
   "source": [
    "df2.show()"
   ]
  },
  {
   "cell_type": "code",
   "execution_count": 36,
   "metadata": {},
   "outputs": [],
   "source": [
    "df3 = df2.select(\"subreddit\", \"author\", \"score\")"
   ]
  },
  {
   "cell_type": "code",
   "execution_count": 37,
   "metadata": {
    "scrolled": true
   },
   "outputs": [
    {
     "name": "stdout",
     "output_type": "stream",
     "text": [
      "+-----------------+----------------+-----+\n",
      "|        subreddit|          author|score|\n",
      "+-----------------+----------------+-----+\n",
      "|        AskReddit|      halftone84|    1|\n",
      "|        AskReddit|       keiyakins|    1|\n",
      "|         politics|  chuck_finley17|    3|\n",
      "|        AskReddit|          iceage|    1|\n",
      "|             IAmA| phenomenonymous|    1|\n",
      "|       California|tumbleweed1993sf|    1|\n",
      "|             pics|         zero_iq|    2|\n",
      "|       reddit.com| gabrielbenjamin|    1|\n",
      "|        AskReddit|         Ishkabo|    5|\n",
      "|        AskReddit|        ihrtgngr|    2|\n",
      "|           trance|       Gareth321|    1|\n",
      "|           google|         BigDisk|    0|\n",
      "|             IAmA|      robdidlyob|    2|\n",
      "|         sandiego|       danxmason|    1|\n",
      "|       googleplus|          LeBrad|    1|\n",
      "|       technology|        DoubleKK|    1|\n",
      "|        worldnews|       [deleted]|    2|\n",
      "|DrawingFromWithin|        Ebeforei|    3|\n",
      "|           gaming|   ultimatechase|    1|\n",
      "|       reddit.com|           pilaf|    2|\n",
      "+-----------------+----------------+-----+\n",
      "only showing top 20 rows\n",
      "\n"
     ]
    }
   ],
   "source": [
    "df3.show()"
   ]
  },
  {
   "cell_type": "code",
   "execution_count": 38,
   "metadata": {},
   "outputs": [],
   "source": [
    "from pyspark.sql.functions import countDistinct, sum\n",
    "\n",
    "\n",
    "df4 = df3.groupBy(\"author\").agg(countDistinct(\"subreddit\").alias(\"subreddit_count\"), sum(\"score\").alias(\"score_sum\")).orderBy([\"subreddit_count\", \"score_sum\"], ascending=False)"
   ]
  },
  {
   "cell_type": "code",
   "execution_count": 39,
   "metadata": {},
   "outputs": [
    {
     "name": "stdout",
     "output_type": "stream",
     "text": [
      "+--------------------+---------------+---------+\n",
      "|              author|subreddit_count|score_sum|\n",
      "+--------------------+---------------+---------+\n",
      "|           [deleted]|          85450| 65310970|\n",
      "|      TotesMessenger|           6703|    95716|\n",
      "|       AutoModerator|           5976|  1516282|\n",
      "|         TweetPoster|           4880|   116744|\n",
      "|OriginalPostSearcher|           4213|    16560|\n",
      "|    ConvertsToMetric|           3125|    18493|\n",
      "|            autotldr|           2316|    62272|\n",
      "|         XPostLinker|           1913|     5309|\n",
      "|    xkcd_transcriber|           1808|    38576|\n",
      "|    Mentioned_Videos|           1724|    22393|\n",
      "|    imgurtranscriber|           1667|    45881|\n",
      "|      User_Simulator|           1451|    36714|\n",
      "|       ImageRehoster|           1275|     4984|\n",
      "|        untouchedURL|           1184|     7207|\n",
      "|        tweet_poster|            877|    12878|\n",
      "|           changetip|            867|    11058|\n",
      "|           pixels625|            862|     1971|\n",
      "| TwitterToStreamable|            840|    13021|\n",
      "|             antdude|            805|     3822|\n",
      "|             V2Blast|            792|    24990|\n",
      "+--------------------+---------------+---------+\n",
      "only showing top 20 rows\n",
      "\n"
     ]
    }
   ],
   "source": [
    "df4.show()"
   ]
  },
  {
   "cell_type": "code",
   "execution_count": 40,
   "metadata": {},
   "outputs": [],
   "source": [
    "df5 = df4.filter(~(df4.author.like(\"[deleted]\")))"
   ]
  },
  {
   "cell_type": "code",
   "execution_count": 41,
   "metadata": {},
   "outputs": [
    {
     "name": "stdout",
     "output_type": "stream",
     "text": [
      "+--------------------+---------------+---------+\n",
      "|              author|subreddit_count|score_sum|\n",
      "+--------------------+---------------+---------+\n",
      "|      TotesMessenger|           6703|    95716|\n",
      "|       AutoModerator|           5976|  1516282|\n",
      "|         TweetPoster|           4880|   116744|\n",
      "|OriginalPostSearcher|           4213|    16560|\n",
      "|    ConvertsToMetric|           3125|    18493|\n",
      "|            autotldr|           2316|    62272|\n",
      "|         XPostLinker|           1913|     5309|\n",
      "|    xkcd_transcriber|           1808|    38576|\n",
      "|    Mentioned_Videos|           1724|    22393|\n",
      "|    imgurtranscriber|           1667|    45881|\n",
      "|      User_Simulator|           1451|    36714|\n",
      "|       ImageRehoster|           1275|     4984|\n",
      "|        untouchedURL|           1184|     7207|\n",
      "|        tweet_poster|            877|    12878|\n",
      "|           changetip|            867|    11058|\n",
      "|           pixels625|            862|     1971|\n",
      "| TwitterToStreamable|            840|    13021|\n",
      "|             antdude|            805|     3822|\n",
      "|             V2Blast|            792|    24990|\n",
      "|    I_Like_Spaghetti|            753|     8281|\n",
      "+--------------------+---------------+---------+\n",
      "only showing top 20 rows\n",
      "\n"
     ]
    }
   ],
   "source": [
    "df5.show()"
   ]
  },
  {
   "cell_type": "code",
   "execution_count": 45,
   "metadata": {},
   "outputs": [],
   "source": [
    "df6 = df5.limit(100)"
   ]
  },
  {
   "cell_type": "code",
   "execution_count": null,
   "metadata": {},
   "outputs": [],
   "source": [
    "df7 = df6.toPandas()"
   ]
  },
  {
   "cell_type": "code",
   "execution_count": null,
   "metadata": {},
   "outputs": [],
   "source": [
    "df7.plot(x='subreddit_count', y='score_sum')"
   ]
  }
 ],
 "metadata": {
  "kernelspec": {
   "display_name": "Python 3",
   "language": "python",
   "name": "python3"
  },
  "language_info": {
   "codemirror_mode": {
    "name": "ipython",
    "version": 3
   },
   "file_extension": ".py",
   "mimetype": "text/x-python",
   "name": "python",
   "nbconvert_exporter": "python",
   "pygments_lexer": "ipython3",
   "version": "3.7.3"
  }
 },
 "nbformat": 4,
 "nbformat_minor": 2
}
