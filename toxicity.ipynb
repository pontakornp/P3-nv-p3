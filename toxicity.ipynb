{
 "cells": [
  {
   "cell_type": "code",
   "execution_count": 1,
   "metadata": {},
   "outputs": [],
   "source": [
    "df = spark.read.format('json').load(\"hdfs://orion11:33001/reddit/sampled_reddit/*\")\n",
    "from pyspark.sql.functions import year, month, dayofmonth, from_unixtime, desc\n",
    "from pyspark.sql.types import TimestampType, DateType\n",
    "botExpr = \"[bB][oO][tT]\"\n",
    "df2 = (df.filter(~(df.body.like(\"[deleted]\") | df.author.rlike(botExpr))))\n",
    "\n",
    "\n",
    "import sys\n",
    "path = '/home4/vramaneti/.local/lib/python3.7/site-packages'\n",
    "sys.path.insert(0,path)"
   ]
  },
  {
   "cell_type": "code",
   "execution_count": 2,
   "metadata": {},
   "outputs": [
    {
     "name": "stderr",
     "output_type": "stream",
     "text": [
      "[nltk_data] Downloading package vader_lexicon to\n",
      "[nltk_data]     /home4/vramaneti/nltk_data...\n",
      "[nltk_data]   Package vader_lexicon is already up-to-date!\n"
     ]
    }
   ],
   "source": [
    "import nltk\n",
    "nltk.download('vader_lexicon')\n",
    "from nltk.sentiment.vader import SentimentIntensityAnalyzer\n",
    "\n",
    "from pyspark.sql.types import DoubleType\n",
    "from pyspark.sql.functions import udf, col\n",
    "\n",
    "def comment_positiveness(comment):\n",
    "    sid = SentimentIntensityAnalyzer()\n",
    "    ss = sid.polarity_scores(comment)\n",
    "    print(ss)\n",
    "    return ss[\"pos\"]\n",
    "\n",
    "def comment_negativeness(comment):\n",
    "    sid = SentimentIntensityAnalyzer()\n",
    "    ss = sid.polarity_scores(comment)\n",
    "    print(ss)\n",
    "    return ss[\"neg\"]"
   ]
  },
  {
   "cell_type": "code",
   "execution_count": 7,
   "metadata": {},
   "outputs": [
    {
     "name": "stdout",
     "output_type": "stream",
     "text": [
      "+--------+----------------+--------------+----------------------+-----------------+--------------------+---------+----------------+-------+-----------+-------------+-----+------+------+-------+--------+-----------+----------+----------+--------------+-------+------------+-----+-----+------------+--------+-----------------+------------+---+------------+-----------+-----------+\n",
      "|archived|          author|author_cakeday|author_flair_css_class|author_flair_text|                body|body_html|controversiality|created|created_utc|distinguished|downs|edited|gilded|     id| link_id|mod_reports|      name| parent_id|removal_reason|replies|retrieved_on|saved|score|score_hidden|stickied|        subreddit|subreddit_id|ups|user_reports|comment_pos|comment_neg|\n",
      "+--------+----------------+--------------+----------------------+-----------------+--------------------+---------+----------------+-------+-----------+-------------+-----+------+------+-------+--------+-----------+----------+----------+--------------+-------+------------+-----+-----+------------+--------+-----------------+------------+---+------------+-----------+-----------+\n",
      "|    true|      halftone84|          null|                  null|             null|I read the title ...|     null|               0|   null| 1309478410|         null|    0| false|     0|c22x4bc|t3_idgji|       null|t1_c22x4bc|  t3_idgji|          null|   null|  1427302517| null|    1|       false|    null|        AskReddit|    t5_2qh1i|  1|        null|        0.0|      0.381|\n",
      "|    true|       keiyakins|          null|                  null|             null|Because you're ab...|     null|               0|   null| 1309478412|         null|    0| false|     0|c22x4bi|t3_idez1|       null|t1_c22x4bi|  t3_idez1|          null|   null|  1427302517| null|    1|       false|    null|        AskReddit|    t5_2qh1i|  1|        null|        0.0|        0.0|\n",
      "|    true|  chuck_finley17|          null|                  null|             null|All he had was a ...|     null|               0|   null| 1309478416|         null|    0| false|     0|c22x4bw|t3_idilf|       null|t1_c22x4bw|t1_c22worq|          null|   null|  1427302517| null|    3|       false|    null|         politics|    t5_2cneq|  3|        null|        0.0|        0.1|\n",
      "|    true|          iceage|          null|                  null|             null|Flushing with you...|     null|               0|   null| 1309478419|         null|    0| false|     0|c22x4c5|t3_idez1|       null|t1_c22x4c5|t1_c22x3iv|          null|   null|  1427302517| null|    1|       false|    null|        AskReddit|    t5_2qh1i|  1|        null|        0.0|      0.124|\n",
      "|    true| phenomenonymous|          null|                  null|             null|I grew up in Texa...|     null|               0|   null| 1309478425|         null|    0| false|     0|c22x4ck|t3_id89f|       null|t1_c22x4ck|t1_c22v4lg|          null|   null|  1427302517| null|    1|       false|    null|             IAmA|    t5_2qzb6|  1|        null|      0.137|      0.037|\n",
      "|    true|tumbleweed1993sf|          null|                  null|             null|I did this alread...|     null|               0|   null| 1309478428|         null|    0| false|     0|c22x4cu|t3_icown|       null|t1_c22x4cu|t1_c22uaz9|          null|   null|  1427302517| null|    1|       false|    null|       California|    t5_2qhsz|  1|        null|        0.0|        0.0|\n",
      "|    true|         zero_iq|          null|                  null|             null|Ctrl-F: *drr* *dr...|     null|               0|   null| 1309478432|         null|    0| false|     0|c22x4di|t3_idf3i|       null|t1_c22x4di|  t3_idf3i|          null|   null|  1427302517| null|    2|       false|    null|             pics|    t5_2qh0u|  2|        null|        0.0|        0.0|\n",
      "|    true| gabrielbenjamin|          null|                  null|             null|Damn. I was wrong...|     null|               0|   null| 1309478438|         null|    0| false|     0|c22x4dj|t3_ialh5|       null|t1_c22x4dj|t1_c229e00|          null|   null|  1427302517| null|    1|       false|    null|       reddit.com|        t5_6|  1|        null|      0.129|      0.129|\n",
      "|    true|         Ishkabo|          null|                  null|             null|          Me too. :/|     null|               0|   null| 1309478434|         null|    0| false|     0|c22x4dp|t3_idgof|       null|t1_c22x4dp|t1_c22x0d8|          null|   null|  1427302517| null|    5|       false|    null|        AskReddit|    t5_2qh1i|  5|        null|        0.0|      0.545|\n",
      "|    true|        ihrtgngr|          null|                  null|             null|I don't know, but...|     null|               0|   null| 1309478441|         null|    0| false|     0|c22x4e4|t3_idiyp|       null|t1_c22x4e4|  t3_idiyp|          null|   null|  1427302518| null|    2|       false|    null|        AskReddit|    t5_2qh1i|  2|        null|      0.331|        0.0|\n",
      "|    true|       Gareth321|          null|                  null|             null|How did you do that?|     null|               0|   null| 1309478448|         null|    0| false|     0|c22x4ex|t3_idena|       null|t1_c22x4ex|t1_c22utuz|          null|   null|  1427302518| null|    1|       false|    null|           trance|    t5_2qi03|  1|        null|        0.0|        0.0|\n",
      "|    true|         BigDisk|          null|                  null|             null|I can haz google+...|     null|               0|   null| 1309478448|         null|    0| false|     0|c22x4ey|t3_id7pg|       null|t1_c22x4ey|  t3_id7pg|          null|   null|  1427302518| null|    0|       false|    null|           google|    t5_2qh45|  0|        null|        0.0|        0.0|\n",
      "|    true|      robdidlyob|          null|                  null|             null|Months?  That's a...|     null|               0|   null| 1309478455|         null|    0| false|     0|c22x4fn|t3_idivv|       null|t1_c22x4fn|t1_c22x0rc|          null|   null|  1427302518| null|    2|       false|    null|             IAmA|    t5_2qzb6|  2|        null|        0.0|        0.0|\n",
      "|    true|       danxmason|          null|                  null|             null|Is that the Reddi...|     null|               0|   null| 1309478457|         null|    0| false|     0|c22x4fq|t3_idllb|       null|t1_c22x4fq|  t3_idllb|          null|   null|  1427302518| null|    1|       false|    null|         sandiego|    t5_2qq2q|  1|        null|        0.0|        0.0|\n",
      "|    true|          LeBrad|          null|                  null|             null|I got my invite, ...|     null|               0|   null| 1309478464|         null|    0| false|     0|c22x4gc|t3_idih6|       null|t1_c22x4gc|t1_c22vdnk|          null|   null|  1427302518| null|    1|       false|    null|       googleplus|    t5_2slj1|  1|        null|      0.353|        0.0|\n",
      "|    true|        DoubleKK|          null|                  null|             null|This sounds bette...|     null|               0|   null| 1309478468|         null|    0| false|     0|c22x4gd|t3_idlha|       null|t1_c22x4gd|  t3_idlha|          null|   null|  1427302518| null|    1|       false|    null|       technology|    t5_2qh16|  1|        null|      0.195|        0.0|\n",
      "|    true|       [deleted]|          null|                  null|             null|Israel handled it...|     null|               0|   null| 1309478465|         null|    0| false|     0|c22x4ge|t3_idczn|       null|t1_c22x4ge|  t3_idczn|          null|   null|  1427302518| null|    2|       false|    null|        worldnews|    t5_2qh13|  2|        null|      0.244|        0.0|\n",
      "|    true|        Ebeforei|          null|                  null|             null|Yeah, I'm ruler g...|     null|               0|   null| 1309478461|         null|    0| false|     0|c22x4gf|t3_i7nfh|       null|t1_c22x4gf|t1_c22w8t5|          null|   null|  1427302518| null|    3|       false|    null|DrawingFromWithin|    t5_2skem|  3|        null|      0.125|      0.136|\n",
      "|    true|   ultimatechase|          null|                  null|             null|I just found out ...|     null|               0|   null| 1309478467|         null|    0| false|     0|c22x4gg|t3_ide7o|       null|t1_c22x4gg|  t3_ide7o|          null|   null|  1427302518| null|    1|       false|    null|           gaming|    t5_2qh03|  1|        null|      0.134|      0.078|\n",
      "|    true|           pilaf|          null|                  null|             null|Hope you can't wa...|     null|               0|   null| 1309478469|         null|    0| false|     0|c22x4go|t3_idm1x|       null|t1_c22x4go|  t3_idm1x|          null|   null|  1427302518| null|    2|       false|    null|       reddit.com|        t5_6|  2|        null|      0.225|        0.0|\n",
      "+--------+----------------+--------------+----------------------+-----------------+--------------------+---------+----------------+-------+-----------+-------------+-----+------+------+-------+--------+-----------+----------+----------+--------------+-------+------------+-----+-----+------------+--------+-----------------+------------+---+------------+-----------+-----------+\n",
      "only showing top 20 rows\n",
      "\n"
     ]
    }
   ],
   "source": [
    "comment_pos_udf = udf(comment_positiveness, DoubleType())\n",
    "comment_neg_udf = udf(comment_negativeness, DoubleType())\n",
    "df3 = df2.withColumn('comment_pos', comment_pos_udf(col('body')))\n",
    "df4 = df3.withColumn('comment_neg', comment_neg_udf(col('body')))\n",
    "df4.show()"
   ]
  },
  {
   "cell_type": "code",
   "execution_count": null,
   "metadata": {},
   "outputs": [],
   "source": []
  },
  {
   "cell_type": "code",
   "execution_count": 10,
   "metadata": {},
   "outputs": [],
   "source": [
    "import pyspark.sql.functions as sf\n",
    "df5 = df4.groupBy(\"subreddit\").agg(sf.mean('comment_pos').alias('pos_score'))\n",
    "screamer_df = df5.select('subreddit', 'pos_score').orderBy(desc(\"pos_score\")).limit(5)"
   ]
  },
  {
   "cell_type": "code",
   "execution_count": 11,
   "metadata": {},
   "outputs": [
    {
     "name": "stdout",
     "output_type": "stream",
     "text": [
      "+------------------+---------+\n",
      "|         subreddit|pos_score|\n",
      "+------------------+---------+\n",
      "|            Kernow|      1.0|\n",
      "|     redditforkids|      1.0|\n",
      "|       shredvideos|      1.0|\n",
      "|     Josheatspie12|      1.0|\n",
      "|KarmaStockExchange|      1.0|\n",
      "+------------------+---------+\n",
      "\n"
     ]
    }
   ],
   "source": [
    "screamer_df.show()"
   ]
  },
  {
   "cell_type": "code",
   "execution_count": 17,
   "metadata": {},
   "outputs": [],
   "source": [
    "df6 = df4.groupBy(\"subreddit\").agg(sf.mean('comment_neg').alias('neg_score'))\n",
    "negative_df = df6.select('subreddit', 'neg_score').orderBy(desc(\"neg_score\")).limit(5)"
   ]
  },
  {
   "cell_type": "code",
   "execution_count": 18,
   "metadata": {},
   "outputs": [
    {
     "name": "stdout",
     "output_type": "stream",
     "text": [
      "+----------+---------+\n",
      "| subreddit|neg_score|\n",
      "+----------+---------+\n",
      "|    Magnox|      1.0|\n",
      "|     Morty|      1.0|\n",
      "|   usdcoin|      1.0|\n",
      "|  azudaioh|      1.0|\n",
      "|96Problems|      1.0|\n",
      "+----------+---------+\n",
      "\n"
     ]
    }
   ],
   "source": [
    "negative_df.show()"
   ]
  },
  {
   "cell_type": "code",
   "execution_count": null,
   "metadata": {},
   "outputs": [],
   "source": []
  }
 ],
 "metadata": {
  "kernelspec": {
   "display_name": "Python 3",
   "language": "python",
   "name": "python3"
  },
  "language_info": {
   "codemirror_mode": {
    "name": "ipython",
    "version": 3
   },
   "file_extension": ".py",
   "mimetype": "text/x-python",
   "name": "python",
   "nbconvert_exporter": "python",
   "pygments_lexer": "ipython3",
   "version": "3.7.3"
  }
 },
 "nbformat": 4,
 "nbformat_minor": 2
}
