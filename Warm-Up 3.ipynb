{
 "cells": [
  {
   "cell_type": "code",
   "execution_count": 5,
   "metadata": {
    "scrolled": true
   },
   "outputs": [
    {
     "name": "stdout",
     "output_type": "stream",
     "text": [
      "CPU times: user 927 ms, sys: 573 ms, total: 1.5 s\n",
      "Wall time: 1h 56min 30s\n"
     ]
    }
   ],
   "source": [
    "%%time\n",
    "\n",
    "from functools import reduce\n",
    "from pyspark.sql import DataFrame\n",
    "\n",
    "# df1 = spark.read.format('json').load(\"hdfs://orion11:33001/reddit/2013/*\")\n",
    "# df2 = spark.read.format('json').load(\"hdfs://orion11:33001/reddit/2014/*\")\n",
    "# df3 = spark.read.format('json').load(\"hdfs://orion11:33001/reddit/2015/*\")\n",
    "# df4 = spark.read.format('json').load(\"hdfs://orion11:33001/reddit/2016/*\")\n",
    "# df5 = spark.read.format('json').load(\"hdfs://orion11:33001/reddit/2017/*\")\n",
    "\n",
    "df = spark.read.json(['hdfs://orion11:33001/reddit/2013','hdfs://orion11:33001/reddit/2014','hdfs://orion11:33001/reddit/2015', 'hdfs://orion11:33001/reddit/2016', 'hdfs://orion11:33001/reddit/2017'])\n",
    "\n"
   ]
  },
  {
   "cell_type": "code",
   "execution_count": 6,
   "metadata": {},
   "outputs": [
    {
     "data": {
      "text/plain": [
       "2630956849"
      ]
     },
     "execution_count": 6,
     "metadata": {},
     "output_type": "execute_result"
    }
   ],
   "source": [
    "df.count()"
   ]
  },
  {
   "cell_type": "code",
   "execution_count": 7,
   "metadata": {
    "scrolled": true
   },
   "outputs": [],
   "source": [
    "samp = df.sample(False, .05)\n",
    "# Write it out\n",
    "samp.write.format('json').save('hdfs://orion11:33001/warmup3')"
   ]
  },
  {
   "cell_type": "code",
   "execution_count": 8,
   "metadata": {
    "scrolled": true
   },
   "outputs": [],
   "source": [
    "df_samp = spark.read.format('json').load(\"hdfs://orion11:33001/warmup3/*\")"
   ]
  },
  {
   "cell_type": "code",
   "execution_count": 9,
   "metadata": {
    "scrolled": true
   },
   "outputs": [
    {
     "name": "stdout",
     "output_type": "stream",
     "text": [
      "+--------+------------------+--------------+----------------------+-----------------+--------------------+---------+----------------+-------+-----------+-------------+-----+----------+------+-------+---------+-----------+----------+----------+-------+------------+-----+-----+------------+--------+--------------+------------+---+------------+\n",
      "|archived|            author|author_cakeday|author_flair_css_class|author_flair_text|                body|body_html|controversiality|created|created_utc|distinguished|downs|    edited|gilded|     id|  link_id|mod_reports|      name| parent_id|replies|retrieved_on|saved|score|score_hidden|stickied|     subreddit|subreddit_id|ups|user_reports|\n",
      "+--------+------------------+--------------+----------------------+-----------------+--------------------+---------+----------------+-------+-----------+-------------+-----+----------+------+-------+---------+-----------+----------+----------+-------+------------+-----+-----+------------+--------+--------------+------------+---+------------+\n",
      "|    true|         [deleted]|          null|                  null|             null|           [deleted]|     null|               0|   null| 1364774400|         null|    0|     false|     0|c95zlrg|t3_1bdv3r|       null|t1_c95zlrg|t1_c95zlal|   null|  1431716835| null|    1|       false|    null| pokemontrades|    t5_2rmov|  1|        null|\n",
      "|    true|         [deleted]|          null|                  null|             null|           [deleted]|     null|               0|   null| 1364774401|         null|    0|     false|     0|c95zlru|t3_1bdvt8|       null|t1_c95zlru|t1_c95zep0|   null|  1431716835| null|    1|       false|    null|      magicTCG|    t5_2qn5f|  1|        null|\n",
      "|    true|           mddubbs|          null|                  null|             null|Alright so I just...|     null|               0|   null| 1364774402|         null|    0|     false|     0|c95zlsc|t3_1bdjzs|       null|t1_c95zlsc| t3_1bdjzs|   null|  1431716835| null|   10|       false|    null|    Psychonaut|    t5_2qplv| 10|        null|\n",
      "|    true|      baboonredass|          null|                  null|             null|Or if the have di...|     null|               0|   null| 1364774403|         null|    0|     false|     0|c95zlsi|t3_1bd4va|       null|t1_c95zlsi|t1_c95tygl|   null|  1431716835| null|   -8|       false|    null|     AskReddit|    t5_2qh1i| -8|        null|\n",
      "|    true|   lukerclodhopper|          null|                  null|             null|If I were to gues...|     null|               0|   null| 1364774403|         null|    0|     false|     0|c95zlsj|t3_1bdm61|       null|t1_c95zlsj|t1_c95ymn2|   null|  1431716835| null|  103|       false|    null|        movies|    t5_2qh3s|103|        null|\n",
      "|    true|         Lucky1289|          null|                  null|             null|My big thing woul...|     null|               0|   null| 1364774403|         null|    0|1364774595|     0|c95zlso|t3_1bdeuf|       null|t1_c95zlso| t3_1bdeuf|   null|  1431716835| null|    2|       false|    null|        Frugal|    t5_2qhbe|  2|        null|\n",
      "|    true|      andthebatman|          null|                  null|             null|Absolutely. This ...|     null|               0|   null| 1364774404|         null|    0|     false|     0|c95zlsv|t3_1bdok0|       null|t1_c95zlsv|t1_c95y5h6|   null|  1431716835| null|    1|       false|    null|        knives|    t5_2qzyn|  1|        null|\n",
      "|    true|       jkernan7553|          null|                  null|             null|Don't think it's ...|     null|               0|   null| 1364774405|         null|    0|     false|     0|c95zlt1|t3_1bdxzi|       null|t1_c95zlt1| t3_1bdxzi|   null|  1431716835| null|    1|       false|    null| AdviceAnimals|    t5_2s7tt|  1|        null|\n",
      "|    true|          hvrock13|          null|                  null|             null|If I'm paying the...|     null|               0|   null| 1364774406|         null|    0|     false|     0|c95zltf|t3_1bdcuq|       null|t1_c95zltf|t1_c95yvu9|   null|  1431716835| null|  -13|       false|    null|         funny|    t5_2qh33|-13|        null|\n",
      "|    true|         [deleted]|          null|                  null|             null|           [deleted]|     null|               0|   null| 1364774407|         null|    0|     false|     0|c95zltj|t3_1bbwlo|       null|t1_c95zltj| t3_1bbwlo|   null|  1431716835| null|    1|       false|    null|          guns|    t5_2qhc8|  1|        null|\n",
      "|    true|   Hmmhowaboutthis|          null|                  null|             null|            *shoots*|     null|               0|   null| 1364774408|         null|    0|     false|     0|c95zltr|t3_1bdy7f|       null|t1_c95zltr| t3_1bdy7f|   null|  1431716834| null|    1|       false|    null| AdviceAnimals|    t5_2s7tt|  1|        null|\n",
      "|    true|      HearshotKidd|          null|                  null|             null|Thanks, I'll try ...|     null|               0|   null| 1364774408|         null|    0|     false|     0|c95zltv|t3_1bdlol|       null|t1_c95zltv|t1_c95x9hz|   null|  1431716834| null|    1|       false|    null|      buildapc|    t5_2rnve|  1|        null|\n",
      "|    true|      sparkleshine|          null|                  null|             null|Very interested i...|     null|               0|   null| 1364774409|         null|    0|     false|     0|c95zlu7|t3_1bdy5i|       null|t1_c95zlu7| t3_1bdy5i|   null|  1431716834| null|    1|       false|    null|makeupexchange|    t5_2tijo|  1|        null|\n",
      "|    true|   StruckingFuggle|          null|                  null|             null|I was being a bit...|     null|               0|   null| 1364774411|         null|    0|     false|     0|c95zluy|t3_1bd84g|       null|t1_c95zluy|t1_c95ypt4|   null|  1431716834| null|    1|       false|    null|          pics|    t5_2qh0u|  1|        null|\n",
      "|    true|GentlemanIntheSuit|          null|                  null|             null|True. TISP took m...|     null|               0|   null| 1364774412|         null|    0|     false|     0|c95zlv6|t3_1bdsq3|       null|t1_c95zlv6|t1_c95zkfb|   null|  1431716834| null|   77|       false|    null|    technology|    t5_2qh16| 77|        null|\n",
      "|    true|        juicyjames|          null|              TeamAcer|        Team Acer|[Husky made one w...|     null|               0|   null| 1364774415|         null|    0|     false|     0|c95zlw6|t3_1bdxjg|       null|t1_c95zlw6| t3_1bdxjg|   null|  1431716834| null|    2|       false|    null|     starcraft|    t5_2qpp6|  2|        null|\n",
      "|    true|     palerthanrice|          null|                76ers2|            76ers|That's how I wish...|     null|               0|   null| 1364774417|         null|    0|     false|     0|c95zlx3|t3_1bdll7|       null|t1_c95zlx3|t1_c95xah6|   null|  1431716833| null|    7|       false|    null|           nba|    t5_2qo4s|  7|        null|\n",
      "|    true|         [deleted]|          null|                  null|             null|           [deleted]|     null|               0|   null| 1364774420|         null|    0|     false|     0|c95zly1|t3_1bdacr|       null|t1_c95zly1|t1_c95zkfv|   null|  1431716833| null|    1|       false|    null| todayilearned|    t5_2qqjc|  1|        null|\n",
      "|    true|         mneaton43|          null|                  null|             null|Anybody know why ...|     null|               0|   null| 1364774422|         null|    0|     false|     0|c95zlyq|t3_1bdxog|       null|t1_c95zlyq| t3_1bdxog|   null|  1431716833| null|    1|       false|    null|          pics|    t5_2qh0u|  1|        null|\n",
      "|    true|           broesel|          null|                  null|             null|The transparent h...|     null|               0|   null| 1364774422|         null|    0|     false|     0|c95zlyz|t3_1b4jgs|       null|t1_c95zlyz| t3_1b4jgs|   null|  1431716833| null|    1|       false|    null|       truetf2|    t5_2stfn|  1|        null|\n",
      "+--------+------------------+--------------+----------------------+-----------------+--------------------+---------+----------------+-------+-----------+-------------+-----+----------+------+-------+---------+-----------+----------+----------+-------+------------+-----+-----+------------+--------+--------------+------------+---+------------+\n",
      "only showing top 20 rows\n",
      "\n"
     ]
    }
   ],
   "source": [
    "df_samp.show()"
   ]
  },
  {
   "cell_type": "code",
   "execution_count": 10,
   "metadata": {},
   "outputs": [
    {
     "name": "stdout",
     "output_type": "stream",
     "text": [
      "+--------------------+-----------+---+-----+\n",
      "|                body|created_utc|day|month|\n",
      "+--------------------+-----------+---+-----+\n",
      "|Alright so I just...| 1364774402| 31|    3|\n",
      "|Or if the have di...| 1364774403| 31|    3|\n",
      "|If I were to gues...| 1364774403| 31|    3|\n",
      "|My big thing woul...| 1364774403| 31|    3|\n",
      "|Absolutely. This ...| 1364774404| 31|    3|\n",
      "|Don't think it's ...| 1364774405| 31|    3|\n",
      "|If I'm paying the...| 1364774406| 31|    3|\n",
      "|            *shoots*| 1364774408| 31|    3|\n",
      "|Thanks, I'll try ...| 1364774408| 31|    3|\n",
      "|Very interested i...| 1364774409| 31|    3|\n",
      "|I was being a bit...| 1364774411| 31|    3|\n",
      "|True. TISP took m...| 1364774412| 31|    3|\n",
      "|[Husky made one w...| 1364774415| 31|    3|\n",
      "|That's how I wish...| 1364774417| 31|    3|\n",
      "|Anybody know why ...| 1364774422| 31|    3|\n",
      "|The transparent h...| 1364774422| 31|    3|\n",
      "|You don't combine...| 1364774424| 31|    3|\n",
      "|Actualllyyy. Tech...| 1364774426| 31|    3|\n",
      "|I think it's part...| 1364774427| 31|    3|\n",
      "|It's different fo...| 1364774431| 31|    3|\n",
      "+--------------------+-----------+---+-----+\n",
      "only showing top 20 rows\n",
      "\n"
     ]
    }
   ],
   "source": [
    "from pyspark.sql.functions import year, month, dayofmonth, from_unixtime\n",
    "from pyspark.sql.types import TimestampType, DateType\n",
    "\n",
    "botExpr = \"[bB][oO][tT]\"\n",
    "\n",
    "df_samp2 = (df_samp\n",
    "                .filter(~(df_samp.body.like(\"[deleted]\") | df_samp.author.rlike(botExpr)))\n",
    "                .withColumn(\"day\", dayofmonth(from_unixtime(\"created_utc\").cast(DateType())))\n",
    "                .withColumn(\"month\", month(from_unixtime(\"created_utc\").cast(DateType()))))\n",
    "df_samp2.select(\"body\", \"created_utc\", \"day\", \"month\").show()"
   ]
  },
  {
   "cell_type": "code",
   "execution_count": 11,
   "metadata": {},
   "outputs": [],
   "source": [
    "df_samp3 = df_samp2.filter((df_samp2.day == 9) & (df_samp2.month == 11))"
   ]
  },
  {
   "cell_type": "code",
   "execution_count": 12,
   "metadata": {},
   "outputs": [
    {
     "name": "stdout",
     "output_type": "stream",
     "text": [
      "+--------------------+-----------+---+-----+\n",
      "|                body|created_utc|day|month|\n",
      "+--------------------+-----------+---+-----+\n",
      "|Fairy Tale Advent...| 1383984002|  9|   11|\n",
      "|             Asians.| 1383984003|  9|   11|\n",
      "|Wasting 90% of my...| 1383984004|  9|   11|\n",
      "|&gt; I think he t...| 1383984005|  9|   11|\n",
      "|What happens to m...| 1383984006|  9|   11|\n",
      "|Commenting for la...| 1383984006|  9|   11|\n",
      "|No need to apolog...| 1383984007|  9|   11|\n",
      "|Oh no, I didn't m...| 1383984013|  9|   11|\n",
      "|Authoritarianism....| 1383984013|  9|   11|\n",
      "|Yeah, the CD rele...| 1383984016|  9|   11|\n",
      "|[Wisconsin Death ...| 1383984019|  9|   11|\n",
      "|Do you take amazo...| 1383984020|  9|   11|\n",
      "|Jesus was a filth...| 1383984022|  9|   11|\n",
      "|Crunchbang is pla...| 1383984023|  9|   11|\n",
      "|*shakes it* Pleas...| 1383984025|  9|   11|\n",
      "|On the contrary, ...| 1383984028|  9|   11|\n",
      "|The monitor doesn...| 1383984032|  9|   11|\n",
      "|        flip a coin\n",
      "| 1383984032|  9|   11|\n",
      "|Interesting. Do y...| 1383984033|  9|   11|\n",
      "|No, it is still i...| 1383984034|  9|   11|\n",
      "+--------------------+-----------+---+-----+\n",
      "only showing top 20 rows\n",
      "\n"
     ]
    }
   ],
   "source": [
    "df_samp3.select(\"body\", \"created_utc\", \"day\", \"month\").show()"
   ]
  },
  {
   "cell_type": "code",
   "execution_count": 13,
   "metadata": {},
   "outputs": [
    {
     "data": {
      "text/plain": [
       "342393"
      ]
     },
     "execution_count": 13,
     "metadata": {},
     "output_type": "execute_result"
    }
   ],
   "source": [
    "df_samp3.count()"
   ]
  },
  {
   "cell_type": "code",
   "execution_count": null,
   "metadata": {},
   "outputs": [],
   "source": []
  }
 ],
 "metadata": {
  "kernelspec": {
   "display_name": "Python 3",
   "language": "python",
   "name": "python3"
  },
  "language_info": {
   "codemirror_mode": {
    "name": "ipython",
    "version": 3
   },
   "file_extension": ".py",
   "mimetype": "text/x-python",
   "name": "python",
   "nbconvert_exporter": "python",
   "pygments_lexer": "ipython3",
   "version": "3.7.3"
  }
 },
 "nbformat": 4,
 "nbformat_minor": 2
}
