{
 "cells": [
  {
   "cell_type": "code",
   "execution_count": 1,
   "metadata": {},
   "outputs": [
    {
     "name": "stdout",
     "output_type": "stream",
     "text": [
      "260305731\n"
     ]
    }
   ],
   "source": [
    "df = spark.read.format('json').load(\"hdfs://orion11:33001/reddit/2012/*\")\n",
    "print(df.count())"
   ]
  },
  {
   "cell_type": "code",
   "execution_count": 2,
   "metadata": {
    "scrolled": true
   },
   "outputs": [
    {
     "name": "stdout",
     "output_type": "stream",
     "text": [
      "+--------+-----------------+----------------------+--------------------+--------------------+----------------+-----------+-------------+-----+------+------+-------+--------+----------+----------+--------------+------------+-----+------------+-------------------+------------+---+\n",
      "|archived|           author|author_flair_css_class|   author_flair_text|                body|controversiality|created_utc|distinguished|downs|edited|gilded|     id| link_id|      name| parent_id|removal_reason|retrieved_on|score|score_hidden|          subreddit|subreddit_id|ups|\n",
      "+--------+-----------------+----------------------+--------------------+--------------------+----------------+-----------+-------------+-----+------+------+-------+--------+----------+----------+--------------+------------+-----+------------+-------------------+------------+---+\n",
      "|    true|          goishin|                  null|                null|Isn't this agains...|               0| 1325376000|         null|    0| false|     0|c3ctzsj|t3_nxrpq|t1_c3ctzsj|  t3_nxrpq|          null|  1428104610|    5|       false|               news|    t5_2qh3l|  5|\n",
      "|    true|        irwinator|                  null|                null|                oil.|               0| 1325376000|         null|    0| false|     0|c3ctzsk|t3_nxszt|t1_c3ctzsk|  t3_nxszt|          null|  1428104610|   -4|       false|          AskReddit|    t5_2qh1i| -4|\n",
      "|    true|          reed311|                  null|                null|Yeah nice... Exce...|               0| 1325376000|         null|    0| false|     0|c3ctzsl|t3_nxxvs|t1_c3ctzsl|t1_c3ctbtq|          null|  1428104610|    5|       false|           politics|    t5_2cneq|  5|\n",
      "|    true|       sagapo3851|                  null|                null|Bro, I figurative...|               0| 1325376000|         null|    0| false|     0|c3ctzsm|t3_nxy18|t1_c3ctzsm|t1_c3ctnku|          null|  1428104610|    2|       false|             gaming|    t5_2qh03|  2|\n",
      "|    true|     filthgrinder|                  null|                null|this is why u can...|               0| 1325376000|         null|    0| false|     0|c3ctzsp|t3_ny1lg|t1_c3ctzsp|t1_c3ctyhf|          null|  1428104610|    3|       false|           politics|    t5_2cneq|  3|\n",
      "|    true|BitterDivorcedDad|                  null|                null|It's a Wizard Pho...|               0| 1325376001|         null|    0| false|     0|c3ctzsr|t3_nxxni|t1_c3ctzsr|  t3_nxxni|          null|  1428104610|    1|       false|                WTF|    t5_2qh61|  1|\n",
      "|    true|         tacoyum6|                  null|                null|Upvote for Albert...|               0| 1325376001|         null|    0| false|     0|c3ctzss|t3_nxkfx|t1_c3ctzss|t1_c3ctdxs|          null|  1428104610|    2|       false|               pics|    t5_2qh0u|  2|\n",
      "|    true|          slavito|                   SLP|[Slytherin Head G...|:) Congrats to al...|               0| 1325376001|         null|    0| false|     0|c3ctzst|t3_ny151|t1_c3ctzst|  t3_ny151|          null|  1428104610|    3|       false|        harrypotter|    t5_2qiqi|  3|\n",
      "|    true|            Qanik|          heimerdinger|                    |Saying Karthus an...|               0| 1325376002|         null|    0| false|     0|c3ctzsu|t3_nxy2n|t1_c3ctzsu|  t3_nxy2n|          null|  1428104610|    4|       false|    leagueoflegends|    t5_2rfxx|  4|\n",
      "|    true|        [deleted]|                  null|                null|           [deleted]|               0| 1325376002|         null|    0| false|     0|c3ctzsv|t3_nv1di|t1_c3ctzsv|t1_c3c8ei1|          null|  1428104610|    1|       false|                CFB|    t5_2qm9d|  1|\n",
      "|    true|     bulkygorilla|                 shaco|                    |as Chaox seems to...|               0| 1325376002|         null|    0| false|     0|c3ctzsw|t3_nx8ar|t1_c3ctzsw|  t3_nx8ar|          null|  1428104610|    1|       false|    leagueoflegends|    t5_2rfxx|  1|\n",
      "|    true|       PurpleTime|                  null|                null|Got it. Thank you...|               0| 1325376002|         null|    0| false|     0|c3ctzsx|t3_nxr23|t1_c3ctzsx|t1_c3ctw3n|          null|  1428104610|    2|       false|      relationships|    t5_2qjvn|  2|\n",
      "|    true|        99-LS1-SS|                  null|                null|Lot's of down vot...|               0| 1325376002|         null|    0| false|     0|c3ctzsy|t3_ntx4j|t1_c3ctzsy|t1_c3bzv0p|          null|  1428104610|    1|       false|fffffffuuuuuuuuuuuu|    t5_2qqlo|  1|\n",
      "|    true|          McDuble|                  null|                null|I am tired of fuc...|               0| 1325376002|         null|    0| false|     0|c3ctzsz|t3_nxny1|t1_c3ctzsz|  t3_nxny1|          null|  1428104610|   -2|       false|             videos|    t5_2qh1e| -2|\n",
      "|    true|          dschiff|                knight|                null|Yet you can still...|               0| 1325376002|         null|    0| false|     0|c3ctzt0|t3_nxmz8|t1_c3ctzt0|t1_c3cs5es|          null|  1428104610|    1|       false|            atheism|    t5_2qh2p|  1|\n",
      "|    true|        [deleted]|                  null|                null|Dude what the fuc...|               0| 1325376002|         null|    0| false|     0|c3ctzt1|t3_nxvpt|t1_c3ctzt1|t1_c3ctynl|          null|  1428104610|    1|       false|              funny|    t5_2qh33|  1|\n",
      "|    true|            swmay|                  null|                null|Yep it's actually...|               0| 1325376003|         null|    0| false|     0|c3ctzt2|t3_nxzqg|t1_c3ctzt2|t1_c3ctsy2|          null|  1428104610|    3|       false|          photoshop|    t5_2qhcb|  3|\n",
      "|    true|        [deleted]|                  null|                null|But they entirely...|               0| 1325376003|         null|    0| false|     0|c3ctzt3|t3_nxocu|t1_c3ctzt3|t1_c3ct8uk|          null|  1428104610|    1|       false|             gaming|    t5_2qh03|  1|\n",
      "|    true|          xenoph2|                  null|                null|              Hallo?|               0| 1325376003|         null|    0| false|     0|c3ctzt4|t3_ny0iv|t1_c3ctzt4|t1_c3ctyak|          null|  1428104610|   -4|       false|               pics|    t5_2qh0u| -4|\n",
      "|    true|     alphaproteus|                  null|                null|I was introduced ...|               0| 1325376003|         null|    0| false|     0|c3ctzt5|t3_nle3c|t1_c3ctzt5|t1_c3ctrke|          null|  1428104610|    1|       false|            newyork|    t5_2qh3t|  1|\n",
      "+--------+-----------------+----------------------+--------------------+--------------------+----------------+-----------+-------------+-----+------+------+-------+--------+----------+----------+--------------+------------+-----+------------+-------------------+------------+---+\n",
      "only showing top 20 rows\n",
      "\n"
     ]
    }
   ],
   "source": [
    "df.show()"
   ]
  },
  {
   "cell_type": "code",
   "execution_count": 3,
   "metadata": {},
   "outputs": [],
   "source": [
    "from pyspark.sql.functions import desc\n",
    "\n",
    "df2 = df.orderBy(desc(\"ups\")).limit(3)"
   ]
  },
  {
   "cell_type": "code",
   "execution_count": 4,
   "metadata": {},
   "outputs": [
    {
     "name": "stdout",
     "output_type": "stream",
     "text": [
      "+--------+-------------------+----------------------+-----------------+--------------------+----------------+-----------+-------------+-----+----------+------+-------+---------+----------+----------+--------------+------------+-----+------------+---------+------------+-----+\n",
      "|archived|             author|author_flair_css_class|author_flair_text|                body|controversiality|created_utc|distinguished|downs|    edited|gilded|     id|  link_id|      name| parent_id|removal_reason|retrieved_on|score|score_hidden|subreddit|subreddit_id|  ups|\n",
      "+--------+-------------------+----------------------+-----------------+--------------------+----------------+-----------+-------------+-----+----------+------+-------+---------+----------+----------+--------------+------------+-----+------------+---------+------------+-----+\n",
      "|    true|     ThrownAway2389|                  null|             null|I once helped out...|               0| 1335848690|         null|    0|     false|     0|c4imvjn| t3_t0ynr|t1_c4imvjn|  t3_t0ynr|          null|  1428831576|14097|       false|AskReddit|    t5_2qh1i|14097|\n",
      "|    true|Here_Comes_The_King|                  null|             null|          fo drizzle|               0| 1354758589|         null|    0|     false|     3|c7bxmfe|t3_14cb0c|t1_c7bxmfe|t1_c7bxi2z|          null|  1430591389|11670|       false|     IAmA|    t5_2qzb6|11670|\n",
      "|    true|            Lynfect|                  null|             null|Well, it is exact...|               0| 1335846109|         null|    0|1341438083|     2|c4imcva| t3_t0ynr|t1_c4imcva|t1_c4im948|          null|  1428831332| 9531|       false|AskReddit|    t5_2qh1i| 9531|\n",
      "+--------+-------------------+----------------------+-----------------+--------------------+----------------+-----------+-------------+-----+----------+------+-------+---------+----------+----------+--------------+------------+-----+------------+---------+------------+-----+\n",
      "\n"
     ]
    }
   ],
   "source": [
    "df2.show()"
   ]
  },
  {
   "cell_type": "code",
   "execution_count": 5,
   "metadata": {
    "scrolled": false
   },
   "outputs": [
    {
     "name": "stdout",
     "output_type": "stream",
     "text": [
      "+--------------------+\n",
      "|                body|\n",
      "+--------------------+\n",
      "|I once helped out...|\n",
      "|          fo drizzle|\n",
      "|Well, it is exact...|\n",
      "+--------------------+\n",
      "\n"
     ]
    }
   ],
   "source": [
    "df2.select('body').show(3)"
   ]
  },
  {
   "cell_type": "code",
   "execution_count": null,
   "metadata": {},
   "outputs": [],
   "source": []
  }
 ],
 "metadata": {
  "kernelspec": {
   "display_name": "Python 3",
   "language": "python",
   "name": "python3"
  },
  "language_info": {
   "codemirror_mode": {
    "name": "ipython",
    "version": 3
   },
   "file_extension": ".py",
   "mimetype": "text/x-python",
   "name": "python",
   "nbconvert_exporter": "python",
   "pygments_lexer": "ipython3",
   "version": "3.7.3"
  }
 },
 "nbformat": 4,
 "nbformat_minor": 2
}
