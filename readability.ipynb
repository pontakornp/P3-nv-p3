{
 "cells": [
  {
   "cell_type": "code",
   "execution_count": 1,
   "metadata": {},
   "outputs": [
    {
     "name": "stdout",
     "output_type": "stream",
     "text": [
      "309199315\n"
     ]
    }
   ],
   "source": [
    "df = spark.read.format('json').load(\"hdfs://orion11:33001/reddit/sampled_reddit/*\")\n",
    "print(df.count())\n"
   ]
  },
  {
   "cell_type": "code",
   "execution_count": 13,
   "metadata": {},
   "outputs": [
    {
     "name": "stdout",
     "output_type": "stream",
     "text": [
      "288673969\n"
     ]
    }
   ],
   "source": [
    "from pyspark.sql.functions import year, month, dayofmonth, from_unixtime, desc\n",
    "from pyspark.sql.types import TimestampType, DateType\n",
    "botExpr = \"[bB][oO][tT]\"\n",
    "df2 = (df\n",
    "        .filter(~(df.body.like(\"[deleted]\") | df.author.rlike(botExpr))))\n",
    "print(df2.count())\n",
    "\n",
    "\n"
   ]
  },
  {
   "cell_type": "code",
   "execution_count": 25,
   "metadata": {},
   "outputs": [
    {
     "name": "stdout",
     "output_type": "stream",
     "text": [
      "['/home4/vramaneti/.local/lib/python3.7/site-packages', '/home4/vramaneti/.local/lib/python3.7/site-packages', '/home4/vramaneti/.local/lib/python3.7/site-packages', '/home4/vramaneti/.local/lib/python3.7/site-packages', '/home4/vramaneti/.local/lib/python3.7/site-packages', '/tmp/spark-809e4e56-1327-42a4-be3f-1a4e6ac39ca9/userFiles-3aad3434-b391-41ca-af37-797f9873dbde', '/home4/vramaneti/project3', '/usr/local/spark-2.4.4-bin-hadoop2.7/python/lib/py4j-0.10.7-src.zip', '/usr/local/spark-2.4.4-bin-hadoop2.7/python', '/home4/vramaneti/project3', '/home2/anaconda3/lib/python37.zip', '/home2/anaconda3/lib/python3.7', '/home2/anaconda3/lib/python3.7/lib-dynload', '', '/home2/anaconda3/lib/python3.7/site-packages', '/home2/anaconda3/lib/python3.7/site-packages/IPython/extensions', '/home4/vramaneti/.ipython']\n",
      "+--------+----------------+--------------+----------------------+-----------------+--------------------+---------+----------------+-------+-----------+-------------+-----+------+------+-------+--------+-----------+----------+----------+--------------+-------+------------+-----+-----+------------+--------+-----------------+------------+---+------------+-------------+\n",
      "|archived|          author|author_cakeday|author_flair_css_class|author_flair_text|                body|body_html|controversiality|created|created_utc|distinguished|downs|edited|gilded|     id| link_id|mod_reports|      name| parent_id|removal_reason|replies|retrieved_on|saved|score|score_hidden|stickied|        subreddit|subreddit_id|ups|user_reports|gun_fog_index|\n",
      "+--------+----------------+--------------+----------------------+-----------------+--------------------+---------+----------------+-------+-----------+-------------+-----+------+------+-------+--------+-----------+----------+----------+--------------+-------+------------+-----+-----+------------+--------+-----------------+------------+---+------------+-------------+\n",
      "|    true|      halftone84|          null|                  null|             null|I read the title ...|     null|               0|   null| 1309478410|         null|    0| false|     0|c22x4bc|t3_idgji|       null|t1_c22x4bc|  t3_idgji|          null|   null|  1427302517| null|    1|       false|    null|        AskReddit|    t5_2qh1i|  1|        null|          6.0|\n",
      "|    true|       keiyakins|          null|                  null|             null|Because you're ab...|     null|               0|   null| 1309478412|         null|    0| false|     0|c22x4bi|t3_idez1|       null|t1_c22x4bi|  t3_idez1|          null|   null|  1427302517| null|    1|       false|    null|        AskReddit|    t5_2qh1i|  1|        null|          4.4|\n",
      "|    true|  chuck_finley17|          null|                  null|             null|All he had was a ...|     null|               0|   null| 1309478416|         null|    0| false|     0|c22x4bw|t3_idilf|       null|t1_c22x4bw|t1_c22worq|          null|   null|  1427302517| null|    3|       false|    null|         politics|    t5_2cneq|  3|        null|          7.5|\n",
      "|    true|          iceage|          null|                  null|             null|Flushing with you...|     null|               0|   null| 1309478419|         null|    0| false|     0|c22x4c5|t3_idez1|       null|t1_c22x4c5|t1_c22x3iv|          null|   null|  1427302517| null|    1|       false|    null|        AskReddit|    t5_2qh1i|  1|        null|          9.6|\n",
      "|    true| phenomenonymous|          null|                  null|             null|I grew up in Texa...|     null|               0|   null| 1309478425|         null|    0| false|     0|c22x4ck|t3_id89f|       null|t1_c22x4ck|t1_c22v4lg|          null|   null|  1427302517| null|    1|       false|    null|             IAmA|    t5_2qzb6|  1|        null|         9.19|\n",
      "|    true|tumbleweed1993sf|          null|                  null|             null|I did this alread...|     null|               0|   null| 1309478428|         null|    0| false|     0|c22x4cu|t3_icown|       null|t1_c22x4cu|t1_c22uaz9|          null|   null|  1427302517| null|    1|       false|    null|       California|    t5_2qhsz|  1|        null|        14.23|\n",
      "|    true|         zero_iq|          null|                  null|             null|Ctrl-F: *drr* *dr...|     null|               0|   null| 1309478432|         null|    0| false|     0|c22x4di|t3_idf3i|       null|t1_c22x4di|  t3_idf3i|          null|   null|  1427302517| null|    2|       false|    null|             pics|    t5_2qh0u|  2|        null|          1.6|\n",
      "|    true| gabrielbenjamin|          null|                  null|             null|Damn. I was wrong...|     null|               0|   null| 1309478438|         null|    0| false|     0|c22x4dj|t3_ialh5|       null|t1_c22x4dj|t1_c229e00|          null|   null|  1427302517| null|    1|       false|    null|       reddit.com|        t5_6|  1|        null|         8.77|\n",
      "|    true|         Ishkabo|          null|                  null|             null|          Me too. :/|     null|               0|   null| 1309478434|         null|    0| false|     0|c22x4dp|t3_idgof|       null|t1_c22x4dp|t1_c22x0d8|          null|   null|  1427302517| null|    5|       false|    null|        AskReddit|    t5_2qh1i|  5|        null|          0.8|\n",
      "|    true|        ihrtgngr|          null|                  null|             null|I don't know, but...|     null|               0|   null| 1309478441|         null|    0| false|     0|c22x4e4|t3_idiyp|       null|t1_c22x4e4|  t3_idiyp|          null|   null|  1427302518| null|    2|       false|    null|        AskReddit|    t5_2qh1i|  2|        null|        17.12|\n",
      "|    true|       Gareth321|          null|                  null|             null|How did you do that?|     null|               0|   null| 1309478448|         null|    0| false|     0|c22x4ex|t3_idena|       null|t1_c22x4ex|t1_c22utuz|          null|   null|  1427302518| null|    1|       false|    null|           trance|    t5_2qi03|  1|        null|          2.0|\n",
      "|    true|         BigDisk|          null|                  null|             null|I can haz google+...|     null|               0|   null| 1309478448|         null|    0| false|     0|c22x4ey|t3_id7pg|       null|t1_c22x4ey|  t3_id7pg|          null|   null|  1427302518| null|    0|       false|    null|           google|    t5_2qh45|  0|        null|          2.0|\n",
      "|    true|      robdidlyob|          null|                  null|             null|Months?  That's a...|     null|               0|   null| 1309478455|         null|    0| false|     0|c22x4fn|t3_idivv|       null|t1_c22x4fn|t1_c22x0rc|          null|   null|  1427302518| null|    2|       false|    null|             IAmA|    t5_2qzb6|  2|        null|         9.85|\n",
      "|    true|       danxmason|          null|                  null|             null|Is that the Reddi...|     null|               0|   null| 1309478457|         null|    0| false|     0|c22x4fq|t3_idllb|       null|t1_c22x4fq|  t3_idllb|          null|   null|  1427302518| null|    1|       false|    null|         sandiego|    t5_2qq2q|  1|        null|          3.2|\n",
      "|    true|          LeBrad|          null|                  null|             null|I got my invite, ...|     null|               0|   null| 1309478464|         null|    0| false|     0|c22x4gc|t3_idih6|       null|t1_c22x4gc|t1_c22vdnk|          null|   null|  1427302518| null|    1|       false|    null|       googleplus|    t5_2slj1|  1|        null|          4.0|\n",
      "|    true|        DoubleKK|          null|                  null|             null|This sounds bette...|     null|               0|   null| 1309478468|         null|    0| false|     0|c22x4gd|t3_idlha|       null|t1_c22x4gd|  t3_idlha|          null|   null|  1427302518| null|    1|       false|    null|       technology|    t5_2qh16|  1|        null|          5.2|\n",
      "|    true|       [deleted]|          null|                  null|             null|Israel handled it...|     null|               0|   null| 1309478465|         null|    0| false|     0|c22x4ge|t3_idczn|       null|t1_c22x4ge|  t3_idczn|          null|   null|  1427302518| null|    2|       false|    null|        worldnews|    t5_2qh13|  2|        null|          4.0|\n",
      "|    true|        Ebeforei|          null|                  null|             null|Yeah, I'm ruler g...|     null|               0|   null| 1309478461|         null|    0| false|     0|c22x4gf|t3_i7nfh|       null|t1_c22x4gf|t1_c22w8t5|          null|   null|  1427302518| null|    3|       false|    null|DrawingFromWithin|    t5_2skem|  3|        null|         8.24|\n",
      "|    true|   ultimatechase|          null|                  null|             null|I just found out ...|     null|               0|   null| 1309478467|         null|    0| false|     0|c22x4gg|t3_ide7o|       null|t1_c22x4gg|  t3_ide7o|          null|   null|  1427302518| null|    1|       false|    null|           gaming|    t5_2qh03|  1|        null|         7.94|\n",
      "|    true|           pilaf|          null|                  null|             null|Hope you can't wa...|     null|               0|   null| 1309478469|         null|    0| false|     0|c22x4go|t3_idm1x|       null|t1_c22x4go|  t3_idm1x|          null|   null|  1427302518| null|    2|       false|    null|       reddit.com|        t5_6|  2|        null|          4.4|\n",
      "+--------+----------------+--------------+----------------------+-----------------+--------------------+---------+----------------+-------+-----------+-------------+-----+------+------+-------+--------+-----------+----------+----------+--------------+-------+------------+-----+-----+------------+--------+-----------------+------------+---+------------+-------------+\n",
      "only showing top 20 rows\n",
      "\n"
     ]
    },
    {
     "name": "stdout",
     "output_type": "stream",
     "text": [
      "+--------+----------+--------------+----------------------+-----------------+--------------------+---------+----------------+-------+-----------+-------------+-----+------+------+-------+--------+-----------+----------+---------+--------------+-------+------------+-----+-----+------------+--------+---------+------------+---+------------+-------------+-------------------+\n",
      "|archived|    author|author_cakeday|author_flair_css_class|author_flair_text|                body|body_html|controversiality|created|created_utc|distinguished|downs|edited|gilded|     id| link_id|mod_reports|      name|parent_id|removal_reason|replies|retrieved_on|saved|score|score_hidden|stickied|subreddit|subreddit_id|ups|user_reports|gun_fog_index|flesch_reading_ease|\n",
      "+--------+----------+--------------+----------------------+-----------------+--------------------+---------+----------------+-------+-----------+-------------+-----+------+------+-------+--------+-----------+----------+---------+--------------+-------+------------+-----+-----+------------+--------+---------+------------+---+------------+-------------+-------------------+\n",
      "|    true|halftone84|          null|                  null|             null|I read the title ...|     null|               0|   null| 1309478410|         null|    0| false|     0|c22x4bc|t3_idgji|       null|t1_c22x4bc| t3_idgji|          null|   null|  1427302517| null|    1|       false|    null|AskReddit|    t5_2qh1i|  1|        null|          6.0|              90.09|\n",
      "+--------+----------+--------------+----------------------+-----------------+--------------------+---------+----------------+-------+-----------+-------------+-----+------+------+-------+--------+-----------+----------+---------+--------------+-------+------------+-----+-----+------------+--------+---------+------------+---+------------+-------------+-------------------+\n",
      "only showing top 1 row\n",
      "\n"
     ]
    }
   ],
   "source": [
    "import sys\n",
    "print(sys.path)\n",
    "path = '/home4/vramaneti/.local/lib/python3.7/site-packages'\n",
    "sys.path.insert(0,path)\n",
    "\n",
    "from pyspark.sql.types import DoubleType\n",
    "from pyspark.sql.functions import udf, col\n",
    "import textstat \n",
    "\n",
    "def gun_fog_index(comment):\n",
    "    return textstat.gunning_fog(comment)\n",
    "\n",
    "def flesch_reading_ease(comment):\n",
    "    return textstat.flesch_reading_ease(comment)\n",
    "\n",
    "gun_fog_index_udf = udf(gun_fog_index, DoubleType())\n",
    "df3 = df2.withColumn('gun_fog_index', gun_fog_index_udf(col('body')))\n",
    "df3.show()\n",
    "\n",
    "\n",
    "flesch_reading_ease_udf = udf(flesch_reading_ease, DoubleType())\n",
    "df4 = df3.withColumn('flesch_reading_ease', flesch_reading_ease_udf(col('body')))\n",
    "\n"
   ]
  },
  {
   "cell_type": "code",
   "execution_count": 48,
   "metadata": {},
   "outputs": [
    {
     "name": "stdout",
     "output_type": "stream",
     "text": [
      "+-------+---------+-------------+-------------------+\n",
      "|     id|subreddit|gun_fog_index|flesch_reading_ease|\n",
      "+-------+---------+-------------+-------------------+\n",
      "|c22x4ey|   google|          2.0|             117.16|\n",
      "|c22x6in|   google|          0.8|             120.21|\n",
      "|c22x7ve|   google|         8.72|               84.0|\n",
      "|c22x91e|   google|          2.2|              82.81|\n",
      "|c22xapw|   google|          0.8|             120.21|\n",
      "|c22xb6v|   google|          3.6|              96.18|\n",
      "|c22xbap|   google|          3.2|             105.66|\n",
      "|c22xbda|   google|          3.2|             105.66|\n",
      "|c22xbvz|   google|         7.08|              84.37|\n",
      "|c22xffu|   google|          2.4|             116.15|\n",
      "|c22xghu|   google|         10.3|              75.54|\n",
      "|c22xk4w|   google|          0.8|             120.21|\n",
      "|c22xmhg|   google|         8.13|              84.68|\n",
      "|c22xudv|   google|          0.8|             120.21|\n",
      "|c22xy76|   google|         9.03|               84.0|\n",
      "|c22y7q4|   google|          2.8|             115.13|\n",
      "|c22y7rd|   google|          0.8|             120.21|\n",
      "|c22yd4e|   google|          8.0|              78.25|\n",
      "|c22ydgg|   google|          5.2|             100.58|\n",
      "|c22ydq5|   google|          5.2|             100.58|\n",
      "+-------+---------+-------------+-------------------+\n",
      "only showing top 20 rows\n",
      "\n"
     ]
    }
   ],
   "source": [
    "import pyspark.sql.functions as sf\n",
    "df6 = df4.select(\"id\", \"subreddit\", \"gun_fog_index\", \"flesch_reading_ease\").filter(df4.subreddit==\"google\")\n",
    "df6.show()"
   ]
  },
  {
   "cell_type": "code",
   "execution_count": 49,
   "metadata": {},
   "outputs": [],
   "source": [
    "import matplotlib.pyplot as plt\n",
    "pdf = df6.toPandas()"
   ]
  },
  {
   "cell_type": "code",
   "execution_count": 73,
   "metadata": {},
   "outputs": [
    {
     "data": {
      "image/png": "[encoded data removed]",
      "text/plain": [
       "<Figure size 432x288 with 1 Axes>"
      ]
     },
     "metadata": {
      "needs_background": "light"
     },
     "output_type": "display_data"
    }
   ],
   "source": [
    "plt.hist(pdf.gun_fog_index, bins=20)\n",
    "plt.xlim(0, 100)\n",
    "plt.show()\n"
   ]
  },
  {
   "cell_type": "code",
   "execution_count": 74,
   "metadata": {},
   "outputs": [
    {
     "data": {
      "image/png": "[encoded data removed]",
      "text/plain": [
       "<Figure size 432x288 with 1 Axes>"
      ]
     },
     "metadata": {
      "needs_background": "light"
     },
     "output_type": "display_data"
    }
   ],
   "source": [
    "plt.hist(pdf.flesch_reading_ease, bins=20)\n",
    "plt.xlim(0, 100)\n",
    "plt.show()"
   ]
  },
  {
   "cell_type": "code",
   "execution_count": 82,
   "metadata": {},
   "outputs": [],
   "source": [
    "import pyspark.sql.functions as sf\n",
    "df7 = df4.select(\"id\", \"subreddit\", \"gun_fog_index\", \"flesch_reading_ease\").filter(df4.subreddit==\"apple\")"
   ]
  },
  {
   "cell_type": "code",
   "execution_count": 81,
   "metadata": {},
   "outputs": [
    {
     "data": {
      "image/png": "[encoded data removed]",
      "text/plain": [
       "<Figure size 432x288 with 1 Axes>"
      ]
     },
     "metadata": {
      "needs_background": "light"
     },
     "output_type": "display_data"
    },
    {
     "data": {
      "image/png": "[encoded data removed]",
      "text/plain": [
       "<Figure size 432x288 with 1 Axes>"
      ]
     },
     "metadata": {
      "needs_background": "light"
     },
     "output_type": "display_data"
    }
   ],
   "source": [
    "pdf = df7.toPandas()\n",
    "plt.hist(pdf.flesch_reading_ease, bins=20)\n",
    "plt.xlim(0, 100)\n",
    "plt.show()\n",
    "\n",
    "plt.hist(pdf.gun_fog_index, bins=20)\n",
    "plt.xlim(0, 100)\n",
    "plt.show()"
   ]
  },
  {
   "cell_type": "code",
   "execution_count": null,
   "metadata": {},
   "outputs": [],
   "source": []
  },
  {
   "cell_type": "code",
   "execution_count": null,
   "metadata": {},
   "outputs": [],
   "source": []
  }
 ],
 "metadata": {
  "kernelspec": {
   "display_name": "Python 3",
   "language": "python",
   "name": "python3"
  },
  "language_info": {
   "codemirror_mode": {
    "name": "ipython",
    "version": 3
   },
   "file_extension": ".py",
   "mimetype": "text/x-python",
   "name": "python",
   "nbconvert_exporter": "python",
   "pygments_lexer": "ipython3",
   "version": "3.7.3"
  }
 },
 "nbformat": 4,
 "nbformat_minor": 2
}
