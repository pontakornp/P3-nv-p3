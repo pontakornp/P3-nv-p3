{
 "cells": [
  {
   "cell_type": "code",
   "execution_count": 1,
   "metadata": {},
   "outputs": [
    {
     "name": "stdout",
     "output_type": "stream",
     "text": [
      "309199315\n"
     ]
    }
   ],
   "source": [
    "# df = spark.read.format('json').load(\"hdfs://orion11:33001/reddit/sampled_reddit/part-00000-e97c075c-b0b4-49da-b85b-f77c115b75b6-c000.json\")\n",
    "df = spark.read.format('json').load(\"hdfs://orion11:33001/reddit/sampled_reddit/*\")\n",
    "print(df.count())"
   ]
  },
  {
   "cell_type": "code",
   "execution_count": 2,
   "metadata": {},
   "outputs": [],
   "source": [
    "from pyspark.sql.functions import year, month, dayofmonth, from_unixtime, desc\n",
    "from pyspark.sql.types import TimestampType, DateType\n",
    "\n",
    "botExpr = \"[bB][oO][tT]\"\n",
    "\n",
    "df2 = (df\n",
    "        .filter(~(df.body.like(\"[deleted]\") | df.author.rlike(botExpr))))"
   ]
  },
  {
   "cell_type": "code",
   "execution_count": 3,
   "metadata": {
    "scrolled": true
   },
   "outputs": [
    {
     "name": "stdout",
     "output_type": "stream",
     "text": [
      "+--------+----------------+--------------+----------------------+-----------------+--------------------+---------+----------------+-------+-----------+-------------+-----+------+------+-------+--------+-----------+----------+----------+--------------+-------+------------+-----+-----+------------+--------+-----------------+------------+---+------------+\n",
      "|archived|          author|author_cakeday|author_flair_css_class|author_flair_text|                body|body_html|controversiality|created|created_utc|distinguished|downs|edited|gilded|     id| link_id|mod_reports|      name| parent_id|removal_reason|replies|retrieved_on|saved|score|score_hidden|stickied|        subreddit|subreddit_id|ups|user_reports|\n",
      "+--------+----------------+--------------+----------------------+-----------------+--------------------+---------+----------------+-------+-----------+-------------+-----+------+------+-------+--------+-----------+----------+----------+--------------+-------+------------+-----+-----+------------+--------+-----------------+------------+---+------------+\n",
      "|    true|      halftone84|          null|                  null|             null|I read the title ...|     null|               0|   null| 1309478410|         null|    0| false|     0|c22x4bc|t3_idgji|       null|t1_c22x4bc|  t3_idgji|          null|   null|  1427302517| null|    1|       false|    null|        AskReddit|    t5_2qh1i|  1|        null|\n",
      "|    true|       keiyakins|          null|                  null|             null|Because you're ab...|     null|               0|   null| 1309478412|         null|    0| false|     0|c22x4bi|t3_idez1|       null|t1_c22x4bi|  t3_idez1|          null|   null|  1427302517| null|    1|       false|    null|        AskReddit|    t5_2qh1i|  1|        null|\n",
      "|    true|  chuck_finley17|          null|                  null|             null|All he had was a ...|     null|               0|   null| 1309478416|         null|    0| false|     0|c22x4bw|t3_idilf|       null|t1_c22x4bw|t1_c22worq|          null|   null|  1427302517| null|    3|       false|    null|         politics|    t5_2cneq|  3|        null|\n",
      "|    true|          iceage|          null|                  null|             null|Flushing with you...|     null|               0|   null| 1309478419|         null|    0| false|     0|c22x4c5|t3_idez1|       null|t1_c22x4c5|t1_c22x3iv|          null|   null|  1427302517| null|    1|       false|    null|        AskReddit|    t5_2qh1i|  1|        null|\n",
      "|    true| phenomenonymous|          null|                  null|             null|I grew up in Texa...|     null|               0|   null| 1309478425|         null|    0| false|     0|c22x4ck|t3_id89f|       null|t1_c22x4ck|t1_c22v4lg|          null|   null|  1427302517| null|    1|       false|    null|             IAmA|    t5_2qzb6|  1|        null|\n",
      "|    true|tumbleweed1993sf|          null|                  null|             null|I did this alread...|     null|               0|   null| 1309478428|         null|    0| false|     0|c22x4cu|t3_icown|       null|t1_c22x4cu|t1_c22uaz9|          null|   null|  1427302517| null|    1|       false|    null|       California|    t5_2qhsz|  1|        null|\n",
      "|    true|         zero_iq|          null|                  null|             null|Ctrl-F: *drr* *dr...|     null|               0|   null| 1309478432|         null|    0| false|     0|c22x4di|t3_idf3i|       null|t1_c22x4di|  t3_idf3i|          null|   null|  1427302517| null|    2|       false|    null|             pics|    t5_2qh0u|  2|        null|\n",
      "|    true| gabrielbenjamin|          null|                  null|             null|Damn. I was wrong...|     null|               0|   null| 1309478438|         null|    0| false|     0|c22x4dj|t3_ialh5|       null|t1_c22x4dj|t1_c229e00|          null|   null|  1427302517| null|    1|       false|    null|       reddit.com|        t5_6|  1|        null|\n",
      "|    true|         Ishkabo|          null|                  null|             null|          Me too. :/|     null|               0|   null| 1309478434|         null|    0| false|     0|c22x4dp|t3_idgof|       null|t1_c22x4dp|t1_c22x0d8|          null|   null|  1427302517| null|    5|       false|    null|        AskReddit|    t5_2qh1i|  5|        null|\n",
      "|    true|        ihrtgngr|          null|                  null|             null|I don't know, but...|     null|               0|   null| 1309478441|         null|    0| false|     0|c22x4e4|t3_idiyp|       null|t1_c22x4e4|  t3_idiyp|          null|   null|  1427302518| null|    2|       false|    null|        AskReddit|    t5_2qh1i|  2|        null|\n",
      "|    true|       Gareth321|          null|                  null|             null|How did you do that?|     null|               0|   null| 1309478448|         null|    0| false|     0|c22x4ex|t3_idena|       null|t1_c22x4ex|t1_c22utuz|          null|   null|  1427302518| null|    1|       false|    null|           trance|    t5_2qi03|  1|        null|\n",
      "|    true|         BigDisk|          null|                  null|             null|I can haz google+...|     null|               0|   null| 1309478448|         null|    0| false|     0|c22x4ey|t3_id7pg|       null|t1_c22x4ey|  t3_id7pg|          null|   null|  1427302518| null|    0|       false|    null|           google|    t5_2qh45|  0|        null|\n",
      "|    true|      robdidlyob|          null|                  null|             null|Months?  That's a...|     null|               0|   null| 1309478455|         null|    0| false|     0|c22x4fn|t3_idivv|       null|t1_c22x4fn|t1_c22x0rc|          null|   null|  1427302518| null|    2|       false|    null|             IAmA|    t5_2qzb6|  2|        null|\n",
      "|    true|       danxmason|          null|                  null|             null|Is that the Reddi...|     null|               0|   null| 1309478457|         null|    0| false|     0|c22x4fq|t3_idllb|       null|t1_c22x4fq|  t3_idllb|          null|   null|  1427302518| null|    1|       false|    null|         sandiego|    t5_2qq2q|  1|        null|\n",
      "|    true|          LeBrad|          null|                  null|             null|I got my invite, ...|     null|               0|   null| 1309478464|         null|    0| false|     0|c22x4gc|t3_idih6|       null|t1_c22x4gc|t1_c22vdnk|          null|   null|  1427302518| null|    1|       false|    null|       googleplus|    t5_2slj1|  1|        null|\n",
      "|    true|        DoubleKK|          null|                  null|             null|This sounds bette...|     null|               0|   null| 1309478468|         null|    0| false|     0|c22x4gd|t3_idlha|       null|t1_c22x4gd|  t3_idlha|          null|   null|  1427302518| null|    1|       false|    null|       technology|    t5_2qh16|  1|        null|\n",
      "|    true|       [deleted]|          null|                  null|             null|Israel handled it...|     null|               0|   null| 1309478465|         null|    0| false|     0|c22x4ge|t3_idczn|       null|t1_c22x4ge|  t3_idczn|          null|   null|  1427302518| null|    2|       false|    null|        worldnews|    t5_2qh13|  2|        null|\n",
      "|    true|        Ebeforei|          null|                  null|             null|Yeah, I'm ruler g...|     null|               0|   null| 1309478461|         null|    0| false|     0|c22x4gf|t3_i7nfh|       null|t1_c22x4gf|t1_c22w8t5|          null|   null|  1427302518| null|    3|       false|    null|DrawingFromWithin|    t5_2skem|  3|        null|\n",
      "|    true|   ultimatechase|          null|                  null|             null|I just found out ...|     null|               0|   null| 1309478467|         null|    0| false|     0|c22x4gg|t3_ide7o|       null|t1_c22x4gg|  t3_ide7o|          null|   null|  1427302518| null|    1|       false|    null|           gaming|    t5_2qh03|  1|        null|\n",
      "|    true|           pilaf|          null|                  null|             null|Hope you can't wa...|     null|               0|   null| 1309478469|         null|    0| false|     0|c22x4go|t3_idm1x|       null|t1_c22x4go|  t3_idm1x|          null|   null|  1427302518| null|    2|       false|    null|       reddit.com|        t5_6|  2|        null|\n",
      "+--------+----------------+--------------+----------------------+-----------------+--------------------+---------+----------------+-------+-----------+-------------+-----+------+------+-------+--------+-----------+----------+----------+--------------+-------+------------+-----+-----+------------+--------+-----------------+------------+---+------------+\n",
      "only showing top 20 rows\n",
      "\n"
     ]
    }
   ],
   "source": [
    "df2.show()"
   ]
  },
  {
   "cell_type": "code",
   "execution_count": 4,
   "metadata": {},
   "outputs": [],
   "source": [
    "df3 = df2.select(\"body\", \"subreddit\", \"ups\")"
   ]
  },
  {
   "cell_type": "code",
   "execution_count": 5,
   "metadata": {
    "scrolled": true
   },
   "outputs": [
    {
     "name": "stdout",
     "output_type": "stream",
     "text": [
      "+--------------------+-----------------+---+\n",
      "|                body|        subreddit|ups|\n",
      "+--------------------+-----------------+---+\n",
      "|I read the title ...|        AskReddit|  1|\n",
      "|Because you're ab...|        AskReddit|  1|\n",
      "|All he had was a ...|         politics|  3|\n",
      "|Flushing with you...|        AskReddit|  1|\n",
      "|I grew up in Texa...|             IAmA|  1|\n",
      "|I did this alread...|       California|  1|\n",
      "|Ctrl-F: *drr* *dr...|             pics|  2|\n",
      "|Damn. I was wrong...|       reddit.com|  1|\n",
      "|          Me too. :/|        AskReddit|  5|\n",
      "|I don't know, but...|        AskReddit|  2|\n",
      "|How did you do that?|           trance|  1|\n",
      "|I can haz google+...|           google|  0|\n",
      "|Months?  That's a...|             IAmA|  2|\n",
      "|Is that the Reddi...|         sandiego|  1|\n",
      "|I got my invite, ...|       googleplus|  1|\n",
      "|This sounds bette...|       technology|  1|\n",
      "|Israel handled it...|        worldnews|  2|\n",
      "|Yeah, I'm ruler g...|DrawingFromWithin|  3|\n",
      "|I just found out ...|           gaming|  1|\n",
      "|Hope you can't wa...|       reddit.com|  2|\n",
      "+--------------------+-----------------+---+\n",
      "only showing top 20 rows\n",
      "\n"
     ]
    }
   ],
   "source": [
    "df3.show()"
   ]
  },
  {
   "cell_type": "code",
   "execution_count": 6,
   "metadata": {},
   "outputs": [],
   "source": [
    "import pyspark.sql.functions as sf\n",
    "from pyspark.sql.functions import col, avg\n",
    "df5 = df3.groupBy(\"subreddit\").agg(sf.round(avg(col(\"ups\")), 2).alias('avg_ups')).orderBy(desc(\"avg_ups\"))"
   ]
  },
  {
   "cell_type": "code",
   "execution_count": 7,
   "metadata": {
    "scrolled": true
   },
   "outputs": [
    {
     "name": "stdout",
     "output_type": "stream",
     "text": [
      "+--------------------+-------+\n",
      "|           subreddit|avg_ups|\n",
      "+--------------------+-------+\n",
      "|          DearYishan|  72.93|\n",
      "|    qkme_transcriber|  60.48|\n",
      "|    WillFerrellMemes|   60.0|\n",
      "|           GifBattle|  56.09|\n",
      "|     AnimatedUpvotes|   52.0|\n",
      "|        dawsonscreek|  51.13|\n",
      "|       GifTournament|  44.78|\n",
      "|                 ekp|   42.0|\n",
      "|            DateRape|  40.66|\n",
      "|     BasementBiotech|   39.4|\n",
      "|          bestof2009|  37.82|\n",
      "|              rsdFAQ|   36.0|\n",
      "|          ShittyIAmA|  34.19|\n",
      "|       ELIAustralian|   32.6|\n",
      "|     richpeoplejokes|   32.0|\n",
      "|           AWSMirror|   32.0|\n",
      "|Thatactuallydidha...|   32.0|\n",
      "|          Bestof2011|  31.15|\n",
      "|             rudrugs|  29.64|\n",
      "|               Fluck|   27.0|\n",
      "+--------------------+-------+\n",
      "only showing top 20 rows\n",
      "\n"
     ]
    }
   ],
   "source": [
    "df5.show()"
   ]
  },
  {
   "cell_type": "code",
   "execution_count": null,
   "metadata": {},
   "outputs": [],
   "source": []
  }
 ],
 "metadata": {
  "kernelspec": {
   "display_name": "Python 3",
   "language": "python",
   "name": "python3"
  },
  "language_info": {
   "codemirror_mode": {
    "name": "ipython",
    "version": 3
   },
   "file_extension": ".py",
   "mimetype": "text/x-python",
   "name": "python",
   "nbconvert_exporter": "python",
   "pygments_lexer": "ipython3",
   "version": "3.7.3"
  }
 },
 "nbformat": 4,
 "nbformat_minor": 2
}
